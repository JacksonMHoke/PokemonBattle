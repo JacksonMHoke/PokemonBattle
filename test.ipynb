{
 "cells": [
  {
   "cell_type": "code",
   "execution_count": 1,
   "metadata": {},
   "outputs": [],
   "source": [
    "from battle import *\n",
    "from trainer import *\n",
    "from pokemon import *\n",
    "from moves import *\n",
    "from globals import *"
   ]
  },
  {
   "cell_type": "code",
   "execution_count": 2,
   "metadata": {},
   "outputs": [],
   "source": [
    "moves=[Tackle(), Earthquake()]\n",
    "stats={\n",
    "    Stat.HP : 200,\n",
    "    Stat.ATT : 100,\n",
    "    Stat.DEF : 10,\n",
    "    Stat.SPA : 100,\n",
    "    Stat.SPD : 10,\n",
    "    Stat.SPE : 100\n",
    "}\n",
    "pikachu=Pikachu('pika', 15, stats, moves)\n",
    "rattata=Rattata('rat', 20, stats, moves)\n",
    "t1=Trainer('Trainer 1', [pikachu], None)\n",
    "t2=Trainer('Trainer 2', [rattata], None)\n",
    "testBattle=Battle(t1, t2)"
   ]
  },
  {
   "cell_type": "code",
   "execution_count": 3,
   "metadata": {},
   "outputs": [
    {
     "name": "stdout",
     "output_type": "stream",
     "text": [
      "List of possible pokemon: \n",
      "\t 1 pika\n",
      "List of possible pokemon: \n",
      "\t 1 rat\n",
      "Trainer 1s pokemon pika has 200 hp\n",
      "Trainer 2s pokemon rat has 200 hp\n",
      "Trainer 1 is picking a move for pika\n",
      "List of moves: 2\n",
      "\t 1 Tackle\n",
      "\t 2 Earthquake\n",
      "Earthquake was selected.\n",
      "Trainer 2 is picking a move for rat\n",
      "List of moves: 2\n",
      "\t 1 Tackle\n",
      "\t 2 Earthquake\n",
      "Tackle was selected.\n",
      "rat took 90.0 damage!\n",
      "pika took 20.0 damage!\n",
      "Trainer 1s pokemon pika has 180.0 hp\n",
      "Trainer 2s pokemon rat has 110.0 hp\n",
      "Trainer 1 is picking a move for pika\n",
      "List of moves: 2\n",
      "\t 1 Tackle\n",
      "\t 2 Earthquake\n",
      "Tackle was selected.\n",
      "Trainer 2 is picking a move for rat\n",
      "List of moves: 2\n",
      "\t 1 Tackle\n",
      "\t 2 Earthquake\n",
      "Tackle was selected.\n",
      "pika took 20.0 damage!\n",
      "rat took 10.0 damage!\n",
      "Trainer 1s pokemon pika has 160.0 hp\n",
      "Trainer 2s pokemon rat has 100.0 hp\n",
      "Trainer 1 is picking a move for pika\n",
      "List of moves: 2\n",
      "\t 1 Tackle\n",
      "\t 2 Earthquake\n",
      "Earthquake was selected.\n",
      "Trainer 2 is picking a move for rat\n",
      "List of moves: 2\n",
      "\t 1 Tackle\n",
      "\t 2 Earthquake\n",
      "Earthquake was selected.\n",
      "Earthquake was super effective!\n",
      "pika took 190.0 damage!\n",
      "pika has fainted!\n"
     ]
    },
    {
     "data": {
      "text/plain": [
       "False"
      ]
     },
     "execution_count": 3,
     "metadata": {},
     "output_type": "execute_result"
    }
   ],
   "source": [
    "testBattle.run_battle()"
   ]
  },
  {
   "cell_type": "code",
   "execution_count": null,
   "metadata": {},
   "outputs": [],
   "source": []
  }
 ],
 "metadata": {
  "kernelspec": {
   "display_name": "Python 3",
   "language": "python",
   "name": "python3"
  },
  "language_info": {
   "codemirror_mode": {
    "name": "ipython",
    "version": 3
   },
   "file_extension": ".py",
   "mimetype": "text/x-python",
   "name": "python",
   "nbconvert_exporter": "python",
   "pygments_lexer": "ipython3",
   "version": "3.12.4"
  }
 },
 "nbformat": 4,
 "nbformat_minor": 2
}
