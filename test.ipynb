{
 "cells": [
  {
   "cell_type": "code",
   "execution_count": 1,
   "metadata": {},
   "outputs": [],
   "source": [
    "from battle import *\n",
    "from trainer import *\n",
    "from pokemon import *\n",
    "from moves import *\n",
    "from globals import *\n",
    "from team import *\n",
    "from event import *"
   ]
  },
  {
   "cell_type": "code",
   "execution_count": 2,
   "metadata": {},
   "outputs": [],
   "source": [
    "moves=[Tackle(), Earthquake(), Thunder()]\n",
    "pikachuStats={\n",
    "    Stat.HP : 200,\n",
    "    Stat.ATT : 100,\n",
    "    Stat.DEF : 100,\n",
    "    Stat.SPA : 100,\n",
    "    Stat.SPD : 100,\n",
    "    Stat.SPE : 100\n",
    "}\n",
    "pikachus=[Pikachu('pika1', 15, pikachuStats, moves), Pikachu('pika2', 15, pikachuStats, moves), Pikachu('pika3', 15, pikachuStats, moves), Pikachu('pika4', 15, pikachuStats, moves)]\n",
    "\n",
    "ratStats={\n",
    "    Stat.HP : 200,\n",
    "    Stat.ATT : 100,\n",
    "    Stat.DEF : 100,\n",
    "    Stat.SPA : 100,\n",
    "    Stat.SPD : 100,\n",
    "    Stat.SPE : 101\n",
    "}\n",
    "rats=[Rattata('rat1', 20, ratStats, moves, Sword()), Rattata('rat2', 20, ratStats, moves), Rattata('rat3', 20, ratStats, moves), Rattata('rat4', 20, ratStats, moves)]\n",
    "t1=Trainer('Trainer 1', pikachus, None)\n",
    "t2=Trainer('Trainer 2', rats, None)\n",
    "teams=[Team('Team Pikachu', [t1], 1), Team('Team Rattata', [t2], 1)]\n",
    "testBattle=Battle(teams)"
   ]
  },
  {
   "cell_type": "code",
   "execution_count": 3,
   "metadata": {},
   "outputs": [
    {
     "name": "stdout",
     "output_type": "stream",
     "text": [
      "Earthquake was super effective!\n",
      "pika2 took 200.0 damage!\n",
      "pika2 has fainted!\n"
     ]
    },
    {
     "ename": "AttributeError",
     "evalue": "module '__main__' has no attribute '__file__'",
     "output_type": "error",
     "traceback": [
      "\u001b[1;31m---------------------------------------------------------------------------\u001b[0m",
      "\u001b[1;31mAttributeError\u001b[0m                            Traceback (most recent call last)",
      "Cell \u001b[1;32mIn[3], line 1\u001b[0m\n\u001b[1;32m----> 1\u001b[0m \u001b[43mtestBattle\u001b[49m\u001b[38;5;241;43m.\u001b[39;49m\u001b[43mrunBattle\u001b[49m\u001b[43m(\u001b[49m\u001b[43m)\u001b[49m\n\u001b[0;32m      2\u001b[0m \u001b[38;5;66;03m# TODO: sync pokemon fainted status with corresponding slot being empty\u001b[39;00m\n\u001b[0;32m      3\u001b[0m \u001b[38;5;66;03m# TODO: only show trainers when swapping and sending out pokemon if they have pokemon available\u001b[39;00m\n",
      "File \u001b[1;32mc:\\Users\\User\\Desktop\\PokemonBattle\\battle.py:47\u001b[0m, in \u001b[0;36mBattle.runBattle\u001b[1;34m(self)\u001b[0m\n\u001b[0;32m     45\u001b[0m \u001b[38;5;66;03m# if no active pokemon, send out new pokemon\u001b[39;00m\n\u001b[0;32m     46\u001b[0m \u001b[38;5;28;01mfor\u001b[39;00m team \u001b[38;5;129;01min\u001b[39;00m \u001b[38;5;28mself\u001b[39m\u001b[38;5;241m.\u001b[39mcontext\u001b[38;5;241m.\u001b[39mteams:\n\u001b[1;32m---> 47\u001b[0m     \u001b[43mteam\u001b[49m\u001b[38;5;241;43m.\u001b[39;49m\u001b[43mpopulateEmptySlots\u001b[49m\u001b[43m(\u001b[49m\u001b[38;5;28;43mself\u001b[39;49m\u001b[38;5;241;43m.\u001b[39;49m\u001b[43mcontext\u001b[49m\u001b[43m)\u001b[49m\n\u001b[0;32m     49\u001b[0m refreshWindow(\u001b[38;5;28mself\u001b[39m\u001b[38;5;241m.\u001b[39mcontext)\n\u001b[0;32m     51\u001b[0m \u001b[38;5;66;03m# choose moves                                 TODO: allow for other options like run, bag, etc\u001b[39;00m\n",
      "File \u001b[1;32mc:\\Users\\User\\Desktop\\PokemonBattle\\team.py:69\u001b[0m, in \u001b[0;36mTeam.populateEmptySlots\u001b[1;34m(self, context)\u001b[0m\n\u001b[0;32m     67\u001b[0m \u001b[38;5;28;01mif\u001b[39;00m slot\u001b[38;5;241m.\u001b[39mpokemon \u001b[38;5;129;01mis\u001b[39;00m \u001b[38;5;28;01mNone\u001b[39;00m \u001b[38;5;129;01mor\u001b[39;00m slot\u001b[38;5;241m.\u001b[39mpokemon\u001b[38;5;241m.\u001b[39mstate\u001b[38;5;241m==\u001b[39mState\u001b[38;5;241m.\u001b[39mFAINTED:\n\u001b[0;32m     68\u001b[0m     trainer\u001b[38;5;241m=\u001b[39m\u001b[38;5;28mself\u001b[39m\u001b[38;5;241m.\u001b[39mselectTrainer(context)\n\u001b[1;32m---> 69\u001b[0m     pokemon\u001b[38;5;241m=\u001b[39m\u001b[43mtrainer\u001b[49m\u001b[38;5;241;43m.\u001b[39;49m\u001b[43mselectPokemon\u001b[49m\u001b[43m(\u001b[49m\u001b[43mcontext\u001b[49m\u001b[43m)\u001b[49m\n\u001b[0;32m     70\u001b[0m     slot\u001b[38;5;241m.\u001b[39mswapPokemon(trainer, pokemon)\n\u001b[0;32m     72\u001b[0m     context\u001b[38;5;241m.\u001b[39mwindow[\u001b[38;5;124mf\u001b[39m\u001b[38;5;124m'\u001b[39m\u001b[38;5;124mteam\u001b[39m\u001b[38;5;132;01m{\u001b[39;00m\u001b[38;5;28mself\u001b[39m\u001b[38;5;241m.\u001b[39mteamIdx\u001b[38;5;241m+\u001b[39m\u001b[38;5;241m1\u001b[39m\u001b[38;5;132;01m}\u001b[39;00m\u001b[38;5;124mPokemonName\u001b[39m\u001b[38;5;124m'\u001b[39m]\u001b[38;5;241m.\u001b[39mupdate(value\u001b[38;5;241m=\u001b[39m\u001b[38;5;124mf\u001b[39m\u001b[38;5;124m'\u001b[39m\u001b[38;5;124mName: \u001b[39m\u001b[38;5;132;01m{\u001b[39;00mpokemon\u001b[38;5;241m.\u001b[39mname\u001b[38;5;132;01m}\u001b[39;00m\u001b[38;5;124m'\u001b[39m)\n",
      "File \u001b[1;32mc:\\Users\\User\\Desktop\\PokemonBattle\\trainer.py:33\u001b[0m, in \u001b[0;36mTrainer.selectPokemon\u001b[1;34m(self, context)\u001b[0m\n\u001b[0;32m     31\u001b[0m context\u001b[38;5;241m.\u001b[39mwindow\u001b[38;5;241m.\u001b[39mrefresh()\n\u001b[0;32m     32\u001b[0m v\u001b[38;5;241m=\u001b[39mwaitForSubmit(context)\n\u001b[1;32m---> 33\u001b[0m \u001b[43mcontext\u001b[49m\u001b[38;5;241;43m.\u001b[39;49m\u001b[43mwindow\u001b[49m\u001b[43m[\u001b[49m\u001b[38;5;124;43mf\u001b[39;49m\u001b[38;5;124;43m'\u001b[39;49m\u001b[38;5;124;43mteam\u001b[39;49m\u001b[38;5;132;43;01m{\u001b[39;49;00m\u001b[43mcontext\u001b[49m\u001b[38;5;241;43m.\u001b[39;49m\u001b[43mcurrentTeam\u001b[49m\u001b[38;5;241;43m+\u001b[39;49m\u001b[38;5;241;43m1\u001b[39;49m\u001b[38;5;132;43;01m}\u001b[39;49;00m\u001b[38;5;124;43mDD\u001b[39;49m\u001b[38;5;124;43m'\u001b[39;49m\u001b[43m]\u001b[49m\u001b[38;5;241;43m.\u001b[39;49m\u001b[43mupdate\u001b[49m\u001b[43m(\u001b[49m\u001b[43mvisible\u001b[49m\u001b[38;5;241;43m=\u001b[39;49m\u001b[38;5;28;43;01mFalse\u001b[39;49;00m\u001b[43m)\u001b[49m\n\u001b[0;32m     34\u001b[0m \u001b[38;5;28;01mfor\u001b[39;00m name, pokemon \u001b[38;5;129;01min\u001b[39;00m \u001b[38;5;28mzip\u001b[39m(pokemonNames, validPokemon):\n\u001b[0;32m     35\u001b[0m     \u001b[38;5;28;01mif\u001b[39;00m name\u001b[38;5;241m==\u001b[39mv[\u001b[38;5;124mf\u001b[39m\u001b[38;5;124m'\u001b[39m\u001b[38;5;124mteam\u001b[39m\u001b[38;5;132;01m{\u001b[39;00mcontext\u001b[38;5;241m.\u001b[39mcurrentTeam\u001b[38;5;241m+\u001b[39m\u001b[38;5;241m1\u001b[39m\u001b[38;5;132;01m}\u001b[39;00m\u001b[38;5;124mDDChoice\u001b[39m\u001b[38;5;124m'\u001b[39m]:\n",
      "File \u001b[1;32mc:\\Users\\User\\Desktop\\PokemonBattle\\venv\\Lib\\site-packages\\FreeSimpleGUI\\elements\\column.py:413\u001b[0m, in \u001b[0;36mColumn.update\u001b[1;34m(self, visible)\u001b[0m\n\u001b[0;32m    410\u001b[0m     \u001b[38;5;28;01mreturn\u001b[39;00m\n\u001b[0;32m    412\u001b[0m \u001b[38;5;28;01mif\u001b[39;00m \u001b[38;5;28mself\u001b[39m\u001b[38;5;241m.\u001b[39m_this_elements_window_closed():\n\u001b[1;32m--> 413\u001b[0m     \u001b[43m_error_popup_with_traceback\u001b[49m\u001b[43m(\u001b[49m\u001b[38;5;124;43m'\u001b[39;49m\u001b[38;5;124;43mError in Column.update - The window was closed\u001b[39;49m\u001b[38;5;124;43m'\u001b[39;49m\u001b[43m)\u001b[49m\n\u001b[0;32m    414\u001b[0m     \u001b[38;5;28;01mreturn\u001b[39;00m\n\u001b[0;32m    416\u001b[0m \u001b[38;5;28;01mif\u001b[39;00m visible \u001b[38;5;129;01mis\u001b[39;00m \u001b[38;5;28;01mFalse\u001b[39;00m:\n",
      "File \u001b[1;32mc:\\Users\\User\\Desktop\\PokemonBattle\\venv\\Lib\\site-packages\\FreeSimpleGUI\\_utils.py:57\u001b[0m, in \u001b[0;36m_error_popup_with_traceback\u001b[1;34m(title, emoji, *args)\u001b[0m\n\u001b[0;32m     55\u001b[0m filename \u001b[38;5;241m=\u001b[39m error_parts[\u001b[38;5;241m0\u001b[39m][error_parts[\u001b[38;5;241m0\u001b[39m]\u001b[38;5;241m.\u001b[39mindex(\u001b[38;5;124m'\u001b[39m\u001b[38;5;124mFile \u001b[39m\u001b[38;5;124m'\u001b[39m) \u001b[38;5;241m+\u001b[39m \u001b[38;5;241m5\u001b[39m :]\n\u001b[0;32m     56\u001b[0m line_num \u001b[38;5;241m=\u001b[39m error_parts[\u001b[38;5;241m1\u001b[39m][error_parts[\u001b[38;5;241m1\u001b[39m]\u001b[38;5;241m.\u001b[39mindex(\u001b[38;5;124m'\u001b[39m\u001b[38;5;124mline \u001b[39m\u001b[38;5;124m'\u001b[39m) \u001b[38;5;241m+\u001b[39m \u001b[38;5;241m5\u001b[39m :]\n\u001b[1;32m---> 57\u001b[0m \u001b[43m_error_popup_with_code\u001b[49m\u001b[43m(\u001b[49m\u001b[43mtitle\u001b[49m\u001b[43m,\u001b[49m\u001b[43m \u001b[49m\u001b[43mfilename\u001b[49m\u001b[43m,\u001b[49m\u001b[43m \u001b[49m\u001b[43mline_num\u001b[49m\u001b[43m,\u001b[49m\u001b[43m \u001b[49m\u001b[43merror_message\u001b[49m\u001b[43m,\u001b[49m\u001b[43m \u001b[49m\u001b[38;5;241;43m*\u001b[39;49m\u001b[43margs\u001b[49m\u001b[43m,\u001b[49m\u001b[43m \u001b[49m\u001b[43memoji\u001b[49m\u001b[38;5;241;43m=\u001b[39;49m\u001b[43memoji\u001b[49m\u001b[43m)\u001b[49m\n",
      "File \u001b[1;32mc:\\Users\\User\\Desktop\\PokemonBattle\\venv\\Lib\\site-packages\\FreeSimpleGUI\\_utils.py:75\u001b[0m, in \u001b[0;36m_error_popup_with_code\u001b[1;34m(title, filename, line_num, emoji, *args)\u001b[0m\n\u001b[0;32m     60\u001b[0m \u001b[38;5;28;01mdef\u001b[39;00m\u001b[38;5;250m \u001b[39m\u001b[38;5;21m_error_popup_with_code\u001b[39m(title, filename, line_num, \u001b[38;5;241m*\u001b[39margs, emoji\u001b[38;5;241m=\u001b[39m\u001b[38;5;28;01mNone\u001b[39;00m):\n\u001b[0;32m     61\u001b[0m \u001b[38;5;250m    \u001b[39m\u001b[38;5;124;03m\"\"\"\u001b[39;00m\n\u001b[0;32m     62\u001b[0m \u001b[38;5;124;03m    Makes the error popup window\u001b[39;00m\n\u001b[0;32m     63\u001b[0m \n\u001b[1;32m   (...)\u001b[0m\n\u001b[0;32m     73\u001b[0m \u001b[38;5;124;03m    :type emoji:      bytes\u001b[39;00m\n\u001b[0;32m     74\u001b[0m \u001b[38;5;124;03m    \"\"\"\u001b[39;00m\n\u001b[1;32m---> 75\u001b[0m     editor_filename \u001b[38;5;241m=\u001b[39m \u001b[43mexecute_get_editor\u001b[49m\u001b[43m(\u001b[49m\u001b[43m)\u001b[49m\n\u001b[0;32m     76\u001b[0m     emoji_data \u001b[38;5;241m=\u001b[39m emoji \u001b[38;5;28;01mif\u001b[39;00m emoji \u001b[38;5;129;01mis\u001b[39;00m \u001b[38;5;129;01mnot\u001b[39;00m \u001b[38;5;28;01mNone\u001b[39;00m \u001b[38;5;28;01melse\u001b[39;00m _random_error_emoji()\n\u001b[0;32m     77\u001b[0m     layout \u001b[38;5;241m=\u001b[39m [[Text(\u001b[38;5;124m'\u001b[39m\u001b[38;5;124mERROR\u001b[39m\u001b[38;5;124m'\u001b[39m), Text(title)], [Image(data\u001b[38;5;241m=\u001b[39memoji_data)]]\n",
      "File \u001b[1;32mc:\\Users\\User\\Desktop\\PokemonBattle\\venv\\Lib\\site-packages\\FreeSimpleGUI\\__init__.py:13393\u001b[0m, in \u001b[0;36mexecute_get_editor\u001b[1;34m()\u001b[0m\n\u001b[0;32m  13390\u001b[0m \u001b[38;5;28;01mexcept\u001b[39;00m:\n\u001b[0;32m  13391\u001b[0m     global_editor \u001b[38;5;241m=\u001b[39m \u001b[38;5;124m'\u001b[39m\u001b[38;5;124m'\u001b[39m\n\u001b[1;32m> 13393\u001b[0m \u001b[38;5;28;01mreturn\u001b[39;00m \u001b[43muser_settings_get_entry\u001b[49m\u001b[43m(\u001b[49m\u001b[38;5;124;43m'\u001b[39;49m\u001b[38;5;124;43m-editor program-\u001b[39;49m\u001b[38;5;124;43m'\u001b[39;49m\u001b[43m,\u001b[49m\u001b[43m \u001b[49m\u001b[43mglobal_editor\u001b[49m\u001b[43m)\u001b[49m\n",
      "File \u001b[1;32mc:\\Users\\User\\Desktop\\PokemonBattle\\venv\\Lib\\site-packages\\FreeSimpleGUI\\__init__.py:12929\u001b[0m, in \u001b[0;36muser_settings_get_entry\u001b[1;34m(key, default)\u001b[0m\n\u001b[0;32m  12914\u001b[0m \u001b[38;5;250m\u001b[39m\u001b[38;5;124;03m\"\"\"\u001b[39;00m\n\u001b[0;32m  12915\u001b[0m \u001b[38;5;124;03mReturns the value of a specified setting.  If the setting is not found in the settings dictionary, then\u001b[39;00m\n\u001b[0;32m  12916\u001b[0m \u001b[38;5;124;03mthe user specified default value will be returned.  It no default is specified and nothing is found, then\u001b[39;00m\n\u001b[1;32m   (...)\u001b[0m\n\u001b[0;32m  12926\u001b[0m \u001b[38;5;124;03m:rtype:         (Any)\u001b[39;00m\n\u001b[0;32m  12927\u001b[0m \u001b[38;5;124;03m\"\"\"\u001b[39;00m\n\u001b[0;32m  12928\u001b[0m settings \u001b[38;5;241m=\u001b[39m UserSettings\u001b[38;5;241m.\u001b[39m_default_for_function_interface\n\u001b[1;32m> 12929\u001b[0m \u001b[38;5;28;01mreturn\u001b[39;00m \u001b[43msettings\u001b[49m\u001b[38;5;241;43m.\u001b[39;49m\u001b[43mget\u001b[49m\u001b[43m(\u001b[49m\u001b[43mkey\u001b[49m\u001b[43m,\u001b[49m\u001b[43m \u001b[49m\u001b[43mdefault\u001b[49m\u001b[43m)\u001b[49m\n",
      "File \u001b[1;32mc:\\Users\\User\\Desktop\\PokemonBattle\\venv\\Lib\\site-packages\\FreeSimpleGUI\\__init__.py:12767\u001b[0m, in \u001b[0;36mUserSettings.get\u001b[1;34m(self, key, default)\u001b[0m\n\u001b[0;32m  12764\u001b[0m     default \u001b[38;5;241m=\u001b[39m \u001b[38;5;28mself\u001b[39m\u001b[38;5;241m.\u001b[39mdefault_value\n\u001b[0;32m  12766\u001b[0m \u001b[38;5;28;01mif\u001b[39;00m \u001b[38;5;28mself\u001b[39m\u001b[38;5;241m.\u001b[39mfull_filename \u001b[38;5;129;01mis\u001b[39;00m \u001b[38;5;28;01mNone\u001b[39;00m:\n\u001b[1;32m> 12767\u001b[0m     \u001b[38;5;28;43mself\u001b[39;49m\u001b[38;5;241;43m.\u001b[39;49m\u001b[43mset_location\u001b[49m\u001b[43m(\u001b[49m\u001b[43m)\u001b[49m\n\u001b[0;32m  12768\u001b[0m     \u001b[38;5;28;01mif\u001b[39;00m \u001b[38;5;28mself\u001b[39m\u001b[38;5;241m.\u001b[39mautosave \u001b[38;5;129;01mor\u001b[39;00m \u001b[38;5;28mself\u001b[39m\u001b[38;5;241m.\u001b[39mdict \u001b[38;5;241m==\u001b[39m {}:\n\u001b[0;32m  12769\u001b[0m         \u001b[38;5;28mself\u001b[39m\u001b[38;5;241m.\u001b[39mread()\n",
      "File \u001b[1;32mc:\\Users\\User\\Desktop\\PokemonBattle\\venv\\Lib\\site-packages\\FreeSimpleGUI\\__init__.py:12511\u001b[0m, in \u001b[0;36mUserSettings.set_location\u001b[1;34m(self, filename, path)\u001b[0m\n\u001b[0;32m  12502\u001b[0m \u001b[38;5;28;01mdef\u001b[39;00m\u001b[38;5;250m \u001b[39m\u001b[38;5;21mset_location\u001b[39m(\u001b[38;5;28mself\u001b[39m, filename\u001b[38;5;241m=\u001b[39m\u001b[38;5;28;01mNone\u001b[39;00m, path\u001b[38;5;241m=\u001b[39m\u001b[38;5;28;01mNone\u001b[39;00m):\n\u001b[0;32m  12503\u001b[0m \u001b[38;5;250m    \u001b[39m\u001b[38;5;124;03m\"\"\"\u001b[39;00m\n\u001b[0;32m  12504\u001b[0m \u001b[38;5;124;03m    Sets the location of the settings file\u001b[39;00m\n\u001b[0;32m  12505\u001b[0m \n\u001b[1;32m   (...)\u001b[0m\n\u001b[0;32m  12509\u001b[0m \u001b[38;5;124;03m    :type path:      (str or None)\u001b[39;00m\n\u001b[0;32m  12510\u001b[0m \u001b[38;5;124;03m    \"\"\"\u001b[39;00m\n\u001b[1;32m> 12511\u001b[0m     cfull_filename, cpath, cfilename \u001b[38;5;241m=\u001b[39m \u001b[38;5;28;43mself\u001b[39;49m\u001b[38;5;241;43m.\u001b[39;49m\u001b[43m_compute_filename\u001b[49m\u001b[43m(\u001b[49m\u001b[43mfilename\u001b[49m\u001b[38;5;241;43m=\u001b[39;49m\u001b[43mfilename\u001b[49m\u001b[43m,\u001b[49m\u001b[43m \u001b[49m\u001b[43mpath\u001b[49m\u001b[38;5;241;43m=\u001b[39;49m\u001b[43mpath\u001b[49m\u001b[43m)\u001b[49m\n\u001b[0;32m  12513\u001b[0m     \u001b[38;5;28mself\u001b[39m\u001b[38;5;241m.\u001b[39mfilename \u001b[38;5;241m=\u001b[39m cfilename\n\u001b[0;32m  12514\u001b[0m     \u001b[38;5;28mself\u001b[39m\u001b[38;5;241m.\u001b[39mpath \u001b[38;5;241m=\u001b[39m cpath\n",
      "File \u001b[1;32mc:\\Users\\User\\Desktop\\PokemonBattle\\venv\\Lib\\site-packages\\FreeSimpleGUI\\__init__.py:12476\u001b[0m, in \u001b[0;36mUserSettings._compute_filename\u001b[1;34m(self, filename, path)\u001b[0m\n\u001b[0;32m  12474\u001b[0m \u001b[38;5;28;01melse\u001b[39;00m:\n\u001b[0;32m  12475\u001b[0m     \u001b[38;5;28;01mif\u001b[39;00m \u001b[38;5;129;01mnot\u001b[39;00m \u001b[38;5;28mself\u001b[39m\u001b[38;5;241m.\u001b[39muse_config_file:\n\u001b[1;32m> 12476\u001b[0m         filename \u001b[38;5;241m=\u001b[39m os\u001b[38;5;241m.\u001b[39mpath\u001b[38;5;241m.\u001b[39msplitext(os\u001b[38;5;241m.\u001b[39mpath\u001b[38;5;241m.\u001b[39mbasename(\u001b[43msys\u001b[49m\u001b[38;5;241;43m.\u001b[39;49m\u001b[43mmodules\u001b[49m\u001b[43m[\u001b[49m\u001b[38;5;124;43m'\u001b[39;49m\u001b[38;5;124;43m__main__\u001b[39;49m\u001b[38;5;124;43m'\u001b[39;49m\u001b[43m]\u001b[49m\u001b[38;5;241;43m.\u001b[39;49m\u001b[38;5;18;43m__file__\u001b[39;49m))[\u001b[38;5;241m0\u001b[39m] \u001b[38;5;241m+\u001b[39m \u001b[38;5;124m'\u001b[39m\u001b[38;5;124m.json\u001b[39m\u001b[38;5;124m'\u001b[39m\n\u001b[0;32m  12477\u001b[0m     \u001b[38;5;28;01melse\u001b[39;00m:\n\u001b[0;32m  12478\u001b[0m         filename \u001b[38;5;241m=\u001b[39m os\u001b[38;5;241m.\u001b[39mpath\u001b[38;5;241m.\u001b[39msplitext(os\u001b[38;5;241m.\u001b[39mpath\u001b[38;5;241m.\u001b[39mbasename(sys\u001b[38;5;241m.\u001b[39mmodules[\u001b[38;5;124m'\u001b[39m\u001b[38;5;124m__main__\u001b[39m\u001b[38;5;124m'\u001b[39m]\u001b[38;5;241m.\u001b[39m\u001b[38;5;18m__file__\u001b[39m))[\u001b[38;5;241m0\u001b[39m] \u001b[38;5;241m+\u001b[39m \u001b[38;5;124m'\u001b[39m\u001b[38;5;124m.ini\u001b[39m\u001b[38;5;124m'\u001b[39m\n",
      "\u001b[1;31mAttributeError\u001b[0m: module '__main__' has no attribute '__file__'"
     ]
    }
   ],
   "source": [
    "testBattle.runBattle()\n",
    "# TODO: sync pokemon fainted status with corresponding slot being empty\n",
    "# TODO: only show trainers when swapping and sending out pokemon if they have pokemon available"
   ]
  },
  {
   "cell_type": "code",
   "execution_count": null,
   "metadata": {},
   "outputs": [],
   "source": []
  },
  {
   "cell_type": "code",
   "execution_count": null,
   "metadata": {},
   "outputs": [],
   "source": []
  }
 ],
 "metadata": {
  "kernelspec": {
   "display_name": "venv",
   "language": "python",
   "name": "python3"
  },
  "language_info": {
   "codemirror_mode": {
    "name": "ipython",
    "version": 3
   },
   "file_extension": ".py",
   "mimetype": "text/x-python",
   "name": "python",
   "nbconvert_exporter": "python",
   "pygments_lexer": "ipython3",
   "version": "3.12.4"
  }
 },
 "nbformat": 4,
 "nbformat_minor": 2
}
