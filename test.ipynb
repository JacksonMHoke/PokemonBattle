{
 "cells": [
  {
   "cell_type": "code",
   "execution_count": 1,
   "metadata": {},
   "outputs": [],
   "source": [
    "from battle import *\n",
    "from trainer import *\n",
    "from pokemon import *\n",
    "from moves import *\n",
    "from globals import *\n",
    "from team import *\n",
    "from event import *"
   ]
  },
  {
   "cell_type": "code",
   "execution_count": 2,
   "metadata": {},
   "outputs": [],
   "source": [
    "moves=[Tackle(), Earthquake(), Thunder()]\n",
    "pikachuStats={\n",
    "    Stat.HP : 200,\n",
    "    Stat.ATT : 100,\n",
    "    Stat.DEF : 100,\n",
    "    Stat.SPA : 100,\n",
    "    Stat.SPD : 100,\n",
    "    Stat.SPE : 100\n",
    "}\n",
    "pikachus=[Pikachu('pika1', 15, pikachuStats, moves), Pikachu('pika2', 15, pikachuStats, moves), Pikachu('pika3', 15, pikachuStats, moves), Pikachu('pika4', 15, pikachuStats, moves)]\n",
    "\n",
    "ratStats={\n",
    "    Stat.HP : 200,\n",
    "    Stat.ATT : 100,\n",
    "    Stat.DEF : 100,\n",
    "    Stat.SPA : 100,\n",
    "    Stat.SPD : 100,\n",
    "    Stat.SPE : 101\n",
    "}\n",
    "rats=[Rattata('rat1', 20, ratStats, moves, Sword()), Rattata('rat2', 20, ratStats, moves), Rattata('rat3', 20, ratStats, moves), Rattata('rat4', 20, ratStats, moves)]\n",
    "t1=Trainer('Trainer 1', pikachus, None)\n",
    "t2=Trainer('Trainer 2', rats, None)\n",
    "teams=[Team('Team Pikachu', [t1], 1), Team('Team Rattata', [t2], 1)]\n",
    "testBattle=Battle(teams)"
   ]
  },
  {
   "cell_type": "code",
   "execution_count": 3,
   "metadata": {},
   "outputs": [
    {
     "name": "stdout",
     "output_type": "stream",
     "text": [
      "Earthquake was super effective!\n",
      "A critical hit!\n",
      "pika2 took 300.0 damage!\n",
      "pika2 has fainted!\n",
      "A critical hit!\n",
      "pika3 took 45.0 damage!\n",
      "rat2 took 180.0 damage!\n",
      "Thunder was ineffective...\n",
      "pika3 took 60.0 damage!\n",
      "rat2 took 100.0 damage!\n",
      "rat2 has fainted!\n"
     ]
    }
   ],
   "source": [
    "testBattle.runBattle()\n",
    "# TODO: sync pokemon fainted status with corresponding slot being empty\n",
    "# TODO: only show trainers when swapping and sending out pokemon if they have pokemon available"
   ]
  },
  {
   "cell_type": "code",
   "execution_count": null,
   "metadata": {},
   "outputs": [],
   "source": []
  }
 ],
 "metadata": {
  "kernelspec": {
   "display_name": "venv",
   "language": "python",
   "name": "python3"
  },
  "language_info": {
   "codemirror_mode": {
    "name": "ipython",
    "version": 3
   },
   "file_extension": ".py",
   "mimetype": "text/x-python",
   "name": "python",
   "nbconvert_exporter": "python",
   "pygments_lexer": "ipython3",
   "version": "3.12.4"
  }
 },
 "nbformat": 4,
 "nbformat_minor": 2
}
