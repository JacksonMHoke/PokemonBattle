{
 "cells": [
  {
   "cell_type": "code",
   "execution_count": 11,
   "metadata": {},
   "outputs": [],
   "source": [
    "from battle import *\n",
    "from entities.trainer import *\n",
    "from entities.pokemon import *\n",
    "from moves.moves import *\n",
    "from globals import *\n",
    "from entities.team import *\n",
    "from events.items import *\n",
    "from events.statuses import *\n",
    "from events.weathers import *\n",
    "from battle.battle import *"
   ]
  },
  {
   "cell_type": "code",
   "execution_count": 12,
   "metadata": {},
   "outputs": [],
   "source": [
    "moves=[Tackle(), Freeze(), Thunder(), Burn(), Earthquake(), ThunderWave(), Rest(), RainDance(), WaterLance(), SwordsDance(), FireBall(), FireSwipe(), Conflagration()]\n",
    "pikachuStats=Stats(200,100,100,100,100,100)\n",
    "pikachus=[Pikachu('pika1', 15, pikachuStats, moves)]#, Pikachu('pika2', 15, pikachuStats, moves), Pikachu('pika3', 15, pikachuStats, moves), Pikachu('pika4', 15, pikachuStats, moves)]\n",
    "\n",
    "ratStats=Stats(200,100,100,100,100,101)\n",
    "rats=[Rattata('rat1', 20, ratStats, moves)]#, Rattata('rat2', 20, ratStats, moves), Rattata('rat3', 20, ratStats, moves), Rattata('rat4', 20, ratStats, moves)]\n",
    "rats[0].item=Sword(rats[0])\n",
    "\n",
    "bellStats=Stats(200, 75, 100, 150, 150, 30)\n",
    "bell=Bell('Bong', 15, bellStats, moves, None, None)\n",
    "\n",
    "shroomHogStats=Stats(150, 100, 75, 150, 150, 75)\n",
    "shroomHog=Shroomhog('SadHog', 15, shroomHogStats, moves)\n",
    "shroomHog.item=Sword(shroomHog)\n",
    "t1=Trainer('Trainer 1', [bell, pikachus[0]], None)\n",
    "t2=Trainer('Trainer 2', [rats[0], shroomHog], None)\n",
    "teams=[Team('Team Bell', [t1], 1), Team('Team Shrooms', [t2], 1)]\n",
    "testBattle=Battle(teams)"
   ]
  },
  {
   "cell_type": "code",
   "execution_count": 13,
   "metadata": {},
   "outputs": [
    {
     "name": "stdout",
     "output_type": "stream",
     "text": [
      "BEING SCHEDULED\n",
      "EVENTQUEUE SCHEDULE 123\n",
      "EVENTQUEUE SCHEDULE 123\n",
      "EVENTQUEUE SCHEDULE 1234\n",
      "BEING SCHEDULED\n",
      "EVENTQUEUE SCHEDULE 123\n",
      "EVENTQUEUE SCHEDULE 123\n",
      "EVENTQUEUE SCHEDULE 1234\n"
     ]
    },
    {
     "ename": "AttributeError",
     "evalue": "module '__main__' has no attribute '__file__'",
     "output_type": "error",
     "traceback": [
      "\u001b[1;31m---------------------------------------------------------------------------\u001b[0m",
      "\u001b[1;31mAttributeError\u001b[0m                            Traceback (most recent call last)",
      "Cell \u001b[1;32mIn[13], line 1\u001b[0m\n\u001b[1;32m----> 1\u001b[0m \u001b[43mtestBattle\u001b[49m\u001b[38;5;241;43m.\u001b[39;49m\u001b[43mrunBattle\u001b[49m\u001b[43m(\u001b[49m\u001b[43m)\u001b[49m\n\u001b[0;32m      2\u001b[0m \u001b[38;5;66;03m# TODO: sync pokemon fainted status with corresponding slot being empty\u001b[39;00m\n\u001b[0;32m      3\u001b[0m \u001b[38;5;66;03m# TODO: only show trainers when swapping and sending out pokemon if they have pokemon available\u001b[39;00m\n",
      "File \u001b[1;32mc:\\Users\\User\\Desktop\\PokemonBattle\\battle\\battle.py:56\u001b[0m, in \u001b[0;36mBattle.runBattle\u001b[1;34m(self)\u001b[0m\n\u001b[0;32m     54\u001b[0m \u001b[38;5;66;03m# if no active pokemon, send out new pokemon\u001b[39;00m\n\u001b[0;32m     55\u001b[0m \u001b[38;5;28;01mfor\u001b[39;00m team \u001b[38;5;129;01min\u001b[39;00m \u001b[38;5;28mself\u001b[39m\u001b[38;5;241m.\u001b[39mbattleContext\u001b[38;5;241m.\u001b[39mteams:\n\u001b[1;32m---> 56\u001b[0m     \u001b[43mteam\u001b[49m\u001b[38;5;241;43m.\u001b[39;49m\u001b[43mpopulateEmptySlots\u001b[49m\u001b[43m(\u001b[49m\u001b[38;5;28;43mself\u001b[39;49m\u001b[38;5;241;43m.\u001b[39;49m\u001b[43mbattleContext\u001b[49m\u001b[43m)\u001b[49m\n\u001b[0;32m     58\u001b[0m \u001b[38;5;28mself\u001b[39m\u001b[38;5;241m.\u001b[39mbattleContext\u001b[38;5;241m.\u001b[39mwindow[\u001b[38;5;124m'\u001b[39m\u001b[38;5;124mcombatLog\u001b[39m\u001b[38;5;124m'\u001b[39m]\u001b[38;5;241m.\u001b[39mupdate(\u001b[38;5;124mf\u001b[39m\u001b[38;5;124m'\u001b[39m\u001b[38;5;124m-------------Turn \u001b[39m\u001b[38;5;132;01m{\u001b[39;00m\u001b[38;5;28mself\u001b[39m\u001b[38;5;241m.\u001b[39mbattleContext\u001b[38;5;241m.\u001b[39mturn\u001b[38;5;132;01m}\u001b[39;00m\u001b[38;5;124m-------------\u001b[39m\u001b[38;5;130;01m\\n\u001b[39;00m\u001b[38;5;124m'\u001b[39m, append\u001b[38;5;241m=\u001b[39m\u001b[38;5;28;01mTrue\u001b[39;00m)\n\u001b[0;32m     59\u001b[0m refreshWindow(\u001b[38;5;28mself\u001b[39m\u001b[38;5;241m.\u001b[39mbattleContext)\n",
      "File \u001b[1;32mc:\\Users\\User\\Desktop\\PokemonBattle\\entities\\team.py:75\u001b[0m, in \u001b[0;36mTeam.populateEmptySlots\u001b[1;34m(self, context)\u001b[0m\n\u001b[0;32m     73\u001b[0m     refreshWindow(context)\n\u001b[0;32m     74\u001b[0m     \u001b[38;5;28;01mcontinue\u001b[39;00m\n\u001b[1;32m---> 75\u001b[0m pokemon\u001b[38;5;241m=\u001b[39m\u001b[43mtrainer\u001b[49m\u001b[38;5;241;43m.\u001b[39;49m\u001b[43mselectPokemon\u001b[49m\u001b[43m(\u001b[49m\u001b[43mcontext\u001b[49m\u001b[43m)\u001b[49m\n\u001b[0;32m     76\u001b[0m slot\u001b[38;5;241m.\u001b[39mswapPokemon(trainer, pokemon, context)\n\u001b[0;32m     78\u001b[0m context\u001b[38;5;241m.\u001b[39mwindow[\u001b[38;5;124mf\u001b[39m\u001b[38;5;124m'\u001b[39m\u001b[38;5;124mteam\u001b[39m\u001b[38;5;132;01m{\u001b[39;00m\u001b[38;5;28mself\u001b[39m\u001b[38;5;241m.\u001b[39mteamIdx\u001b[38;5;241m+\u001b[39m\u001b[38;5;241m1\u001b[39m\u001b[38;5;132;01m}\u001b[39;00m\u001b[38;5;124m:\u001b[39m\u001b[38;5;132;01m{\u001b[39;00mi\u001b[38;5;132;01m}\u001b[39;00m\u001b[38;5;124mPokemonName\u001b[39m\u001b[38;5;124m'\u001b[39m]\u001b[38;5;241m.\u001b[39mupdate(value\u001b[38;5;241m=\u001b[39m\u001b[38;5;124mf\u001b[39m\u001b[38;5;124m'\u001b[39m\u001b[38;5;124mName: \u001b[39m\u001b[38;5;132;01m{\u001b[39;00mpokemon\u001b[38;5;241m.\u001b[39mname\u001b[38;5;132;01m}\u001b[39;00m\u001b[38;5;124m'\u001b[39m)\n",
      "File \u001b[1;32mc:\\Users\\User\\Desktop\\PokemonBattle\\entities\\trainer.py:33\u001b[0m, in \u001b[0;36mTrainer.selectPokemon\u001b[1;34m(self, battleContext)\u001b[0m\n\u001b[0;32m     31\u001b[0m showDropdown(battleContext\u001b[38;5;241m=\u001b[39mbattleContext, team\u001b[38;5;241m=\u001b[39mbattleContext\u001b[38;5;241m.\u001b[39mcurrentTeam, text\u001b[38;5;241m=\u001b[39m\u001b[38;5;124m'\u001b[39m\u001b[38;5;124mSelect a pokemon to send out:\u001b[39m\u001b[38;5;124m'\u001b[39m, values\u001b[38;5;241m=\u001b[39mpokemonNames)\n\u001b[0;32m     32\u001b[0m v\u001b[38;5;241m=\u001b[39mwaitForSubmit(battleContext, battleContext\u001b[38;5;241m.\u001b[39mcurrentTeam)\n\u001b[1;32m---> 33\u001b[0m \u001b[43mhideDropdown\u001b[49m\u001b[43m(\u001b[49m\u001b[43mbattleContext\u001b[49m\u001b[38;5;241;43m=\u001b[39;49m\u001b[43mbattleContext\u001b[49m\u001b[43m,\u001b[49m\u001b[43m \u001b[49m\u001b[43mteam\u001b[49m\u001b[38;5;241;43m=\u001b[39;49m\u001b[43mbattleContext\u001b[49m\u001b[38;5;241;43m.\u001b[39;49m\u001b[43mcurrentTeam\u001b[49m\u001b[43m)\u001b[49m\n\u001b[0;32m     35\u001b[0m \u001b[38;5;28;01mreturn\u001b[39;00m validPokemon[v[\u001b[38;5;124mf\u001b[39m\u001b[38;5;124m'\u001b[39m\u001b[38;5;124mteam\u001b[39m\u001b[38;5;132;01m{\u001b[39;00mbattleContext\u001b[38;5;241m.\u001b[39mcurrentTeam\u001b[38;5;241m+\u001b[39m\u001b[38;5;241m1\u001b[39m\u001b[38;5;132;01m}\u001b[39;00m\u001b[38;5;124mDDChoice\u001b[39m\u001b[38;5;124m'\u001b[39m]\u001b[38;5;241m.\u001b[39mid]\n",
      "File \u001b[1;32mc:\\Users\\User\\Desktop\\PokemonBattle\\gui.py:42\u001b[0m, in \u001b[0;36mhideDropdown\u001b[1;34m(battleContext, team)\u001b[0m\n\u001b[0;32m     41\u001b[0m \u001b[38;5;28;01mdef\u001b[39;00m\u001b[38;5;250m \u001b[39m\u001b[38;5;21mhideDropdown\u001b[39m(battleContext, team):\n\u001b[1;32m---> 42\u001b[0m     \u001b[43mbattleContext\u001b[49m\u001b[38;5;241;43m.\u001b[39;49m\u001b[43mwindow\u001b[49m\u001b[43m[\u001b[49m\u001b[38;5;124;43mf\u001b[39;49m\u001b[38;5;124;43m'\u001b[39;49m\u001b[38;5;124;43mteam\u001b[39;49m\u001b[38;5;132;43;01m{\u001b[39;49;00m\u001b[43mteam\u001b[49m\u001b[38;5;241;43m+\u001b[39;49m\u001b[38;5;241;43m1\u001b[39;49m\u001b[38;5;132;43;01m}\u001b[39;49;00m\u001b[38;5;124;43mDD\u001b[39;49m\u001b[38;5;124;43m'\u001b[39;49m\u001b[43m]\u001b[49m\u001b[38;5;241;43m.\u001b[39;49m\u001b[43mupdate\u001b[49m\u001b[43m(\u001b[49m\u001b[43mvisible\u001b[49m\u001b[38;5;241;43m=\u001b[39;49m\u001b[38;5;28;43;01mFalse\u001b[39;49;00m\u001b[43m)\u001b[49m\n",
      "File \u001b[1;32mc:\\Users\\User\\Desktop\\PokemonBattle\\venv\\Lib\\site-packages\\FreeSimpleGUI\\elements\\column.py:413\u001b[0m, in \u001b[0;36mColumn.update\u001b[1;34m(self, visible)\u001b[0m\n\u001b[0;32m    410\u001b[0m     \u001b[38;5;28;01mreturn\u001b[39;00m\n\u001b[0;32m    412\u001b[0m \u001b[38;5;28;01mif\u001b[39;00m \u001b[38;5;28mself\u001b[39m\u001b[38;5;241m.\u001b[39m_this_elements_window_closed():\n\u001b[1;32m--> 413\u001b[0m     \u001b[43m_error_popup_with_traceback\u001b[49m\u001b[43m(\u001b[49m\u001b[38;5;124;43m'\u001b[39;49m\u001b[38;5;124;43mError in Column.update - The window was closed\u001b[39;49m\u001b[38;5;124;43m'\u001b[39;49m\u001b[43m)\u001b[49m\n\u001b[0;32m    414\u001b[0m     \u001b[38;5;28;01mreturn\u001b[39;00m\n\u001b[0;32m    416\u001b[0m \u001b[38;5;28;01mif\u001b[39;00m visible \u001b[38;5;129;01mis\u001b[39;00m \u001b[38;5;28;01mFalse\u001b[39;00m:\n",
      "File \u001b[1;32mc:\\Users\\User\\Desktop\\PokemonBattle\\venv\\Lib\\site-packages\\FreeSimpleGUI\\_utils.py:57\u001b[0m, in \u001b[0;36m_error_popup_with_traceback\u001b[1;34m(title, emoji, *args)\u001b[0m\n\u001b[0;32m     55\u001b[0m filename \u001b[38;5;241m=\u001b[39m error_parts[\u001b[38;5;241m0\u001b[39m][error_parts[\u001b[38;5;241m0\u001b[39m]\u001b[38;5;241m.\u001b[39mindex(\u001b[38;5;124m'\u001b[39m\u001b[38;5;124mFile \u001b[39m\u001b[38;5;124m'\u001b[39m) \u001b[38;5;241m+\u001b[39m \u001b[38;5;241m5\u001b[39m :]\n\u001b[0;32m     56\u001b[0m line_num \u001b[38;5;241m=\u001b[39m error_parts[\u001b[38;5;241m1\u001b[39m][error_parts[\u001b[38;5;241m1\u001b[39m]\u001b[38;5;241m.\u001b[39mindex(\u001b[38;5;124m'\u001b[39m\u001b[38;5;124mline \u001b[39m\u001b[38;5;124m'\u001b[39m) \u001b[38;5;241m+\u001b[39m \u001b[38;5;241m5\u001b[39m :]\n\u001b[1;32m---> 57\u001b[0m \u001b[43m_error_popup_with_code\u001b[49m\u001b[43m(\u001b[49m\u001b[43mtitle\u001b[49m\u001b[43m,\u001b[49m\u001b[43m \u001b[49m\u001b[43mfilename\u001b[49m\u001b[43m,\u001b[49m\u001b[43m \u001b[49m\u001b[43mline_num\u001b[49m\u001b[43m,\u001b[49m\u001b[43m \u001b[49m\u001b[43merror_message\u001b[49m\u001b[43m,\u001b[49m\u001b[43m \u001b[49m\u001b[38;5;241;43m*\u001b[39;49m\u001b[43margs\u001b[49m\u001b[43m,\u001b[49m\u001b[43m \u001b[49m\u001b[43memoji\u001b[49m\u001b[38;5;241;43m=\u001b[39;49m\u001b[43memoji\u001b[49m\u001b[43m)\u001b[49m\n",
      "File \u001b[1;32mc:\\Users\\User\\Desktop\\PokemonBattle\\venv\\Lib\\site-packages\\FreeSimpleGUI\\_utils.py:75\u001b[0m, in \u001b[0;36m_error_popup_with_code\u001b[1;34m(title, filename, line_num, emoji, *args)\u001b[0m\n\u001b[0;32m     60\u001b[0m \u001b[38;5;28;01mdef\u001b[39;00m\u001b[38;5;250m \u001b[39m\u001b[38;5;21m_error_popup_with_code\u001b[39m(title, filename, line_num, \u001b[38;5;241m*\u001b[39margs, emoji\u001b[38;5;241m=\u001b[39m\u001b[38;5;28;01mNone\u001b[39;00m):\n\u001b[0;32m     61\u001b[0m \u001b[38;5;250m    \u001b[39m\u001b[38;5;124;03m\"\"\"\u001b[39;00m\n\u001b[0;32m     62\u001b[0m \u001b[38;5;124;03m    Makes the error popup window\u001b[39;00m\n\u001b[0;32m     63\u001b[0m \n\u001b[1;32m   (...)\u001b[0m\n\u001b[0;32m     73\u001b[0m \u001b[38;5;124;03m    :type emoji:      bytes\u001b[39;00m\n\u001b[0;32m     74\u001b[0m \u001b[38;5;124;03m    \"\"\"\u001b[39;00m\n\u001b[1;32m---> 75\u001b[0m     editor_filename \u001b[38;5;241m=\u001b[39m \u001b[43mexecute_get_editor\u001b[49m\u001b[43m(\u001b[49m\u001b[43m)\u001b[49m\n\u001b[0;32m     76\u001b[0m     emoji_data \u001b[38;5;241m=\u001b[39m emoji \u001b[38;5;28;01mif\u001b[39;00m emoji \u001b[38;5;129;01mis\u001b[39;00m \u001b[38;5;129;01mnot\u001b[39;00m \u001b[38;5;28;01mNone\u001b[39;00m \u001b[38;5;28;01melse\u001b[39;00m _random_error_emoji()\n\u001b[0;32m     77\u001b[0m     layout \u001b[38;5;241m=\u001b[39m [[Text(\u001b[38;5;124m'\u001b[39m\u001b[38;5;124mERROR\u001b[39m\u001b[38;5;124m'\u001b[39m), Text(title)], [Image(data\u001b[38;5;241m=\u001b[39memoji_data)]]\n",
      "File \u001b[1;32mc:\\Users\\User\\Desktop\\PokemonBattle\\venv\\Lib\\site-packages\\FreeSimpleGUI\\__init__.py:13393\u001b[0m, in \u001b[0;36mexecute_get_editor\u001b[1;34m()\u001b[0m\n\u001b[0;32m  13390\u001b[0m \u001b[38;5;28;01mexcept\u001b[39;00m:\n\u001b[0;32m  13391\u001b[0m     global_editor \u001b[38;5;241m=\u001b[39m \u001b[38;5;124m'\u001b[39m\u001b[38;5;124m'\u001b[39m\n\u001b[1;32m> 13393\u001b[0m \u001b[38;5;28;01mreturn\u001b[39;00m \u001b[43muser_settings_get_entry\u001b[49m\u001b[43m(\u001b[49m\u001b[38;5;124;43m'\u001b[39;49m\u001b[38;5;124;43m-editor program-\u001b[39;49m\u001b[38;5;124;43m'\u001b[39;49m\u001b[43m,\u001b[49m\u001b[43m \u001b[49m\u001b[43mglobal_editor\u001b[49m\u001b[43m)\u001b[49m\n",
      "File \u001b[1;32mc:\\Users\\User\\Desktop\\PokemonBattle\\venv\\Lib\\site-packages\\FreeSimpleGUI\\__init__.py:12929\u001b[0m, in \u001b[0;36muser_settings_get_entry\u001b[1;34m(key, default)\u001b[0m\n\u001b[0;32m  12914\u001b[0m \u001b[38;5;250m\u001b[39m\u001b[38;5;124;03m\"\"\"\u001b[39;00m\n\u001b[0;32m  12915\u001b[0m \u001b[38;5;124;03mReturns the value of a specified setting.  If the setting is not found in the settings dictionary, then\u001b[39;00m\n\u001b[0;32m  12916\u001b[0m \u001b[38;5;124;03mthe user specified default value will be returned.  It no default is specified and nothing is found, then\u001b[39;00m\n\u001b[1;32m   (...)\u001b[0m\n\u001b[0;32m  12926\u001b[0m \u001b[38;5;124;03m:rtype:         (Any)\u001b[39;00m\n\u001b[0;32m  12927\u001b[0m \u001b[38;5;124;03m\"\"\"\u001b[39;00m\n\u001b[0;32m  12928\u001b[0m settings \u001b[38;5;241m=\u001b[39m UserSettings\u001b[38;5;241m.\u001b[39m_default_for_function_interface\n\u001b[1;32m> 12929\u001b[0m \u001b[38;5;28;01mreturn\u001b[39;00m \u001b[43msettings\u001b[49m\u001b[38;5;241;43m.\u001b[39;49m\u001b[43mget\u001b[49m\u001b[43m(\u001b[49m\u001b[43mkey\u001b[49m\u001b[43m,\u001b[49m\u001b[43m \u001b[49m\u001b[43mdefault\u001b[49m\u001b[43m)\u001b[49m\n",
      "File \u001b[1;32mc:\\Users\\User\\Desktop\\PokemonBattle\\venv\\Lib\\site-packages\\FreeSimpleGUI\\__init__.py:12767\u001b[0m, in \u001b[0;36mUserSettings.get\u001b[1;34m(self, key, default)\u001b[0m\n\u001b[0;32m  12764\u001b[0m     default \u001b[38;5;241m=\u001b[39m \u001b[38;5;28mself\u001b[39m\u001b[38;5;241m.\u001b[39mdefault_value\n\u001b[0;32m  12766\u001b[0m \u001b[38;5;28;01mif\u001b[39;00m \u001b[38;5;28mself\u001b[39m\u001b[38;5;241m.\u001b[39mfull_filename \u001b[38;5;129;01mis\u001b[39;00m \u001b[38;5;28;01mNone\u001b[39;00m:\n\u001b[1;32m> 12767\u001b[0m     \u001b[38;5;28;43mself\u001b[39;49m\u001b[38;5;241;43m.\u001b[39;49m\u001b[43mset_location\u001b[49m\u001b[43m(\u001b[49m\u001b[43m)\u001b[49m\n\u001b[0;32m  12768\u001b[0m     \u001b[38;5;28;01mif\u001b[39;00m \u001b[38;5;28mself\u001b[39m\u001b[38;5;241m.\u001b[39mautosave \u001b[38;5;129;01mor\u001b[39;00m \u001b[38;5;28mself\u001b[39m\u001b[38;5;241m.\u001b[39mdict \u001b[38;5;241m==\u001b[39m {}:\n\u001b[0;32m  12769\u001b[0m         \u001b[38;5;28mself\u001b[39m\u001b[38;5;241m.\u001b[39mread()\n",
      "File \u001b[1;32mc:\\Users\\User\\Desktop\\PokemonBattle\\venv\\Lib\\site-packages\\FreeSimpleGUI\\__init__.py:12511\u001b[0m, in \u001b[0;36mUserSettings.set_location\u001b[1;34m(self, filename, path)\u001b[0m\n\u001b[0;32m  12502\u001b[0m \u001b[38;5;28;01mdef\u001b[39;00m\u001b[38;5;250m \u001b[39m\u001b[38;5;21mset_location\u001b[39m(\u001b[38;5;28mself\u001b[39m, filename\u001b[38;5;241m=\u001b[39m\u001b[38;5;28;01mNone\u001b[39;00m, path\u001b[38;5;241m=\u001b[39m\u001b[38;5;28;01mNone\u001b[39;00m):\n\u001b[0;32m  12503\u001b[0m \u001b[38;5;250m    \u001b[39m\u001b[38;5;124;03m\"\"\"\u001b[39;00m\n\u001b[0;32m  12504\u001b[0m \u001b[38;5;124;03m    Sets the location of the settings file\u001b[39;00m\n\u001b[0;32m  12505\u001b[0m \n\u001b[1;32m   (...)\u001b[0m\n\u001b[0;32m  12509\u001b[0m \u001b[38;5;124;03m    :type path:      (str or None)\u001b[39;00m\n\u001b[0;32m  12510\u001b[0m \u001b[38;5;124;03m    \"\"\"\u001b[39;00m\n\u001b[1;32m> 12511\u001b[0m     cfull_filename, cpath, cfilename \u001b[38;5;241m=\u001b[39m \u001b[38;5;28;43mself\u001b[39;49m\u001b[38;5;241;43m.\u001b[39;49m\u001b[43m_compute_filename\u001b[49m\u001b[43m(\u001b[49m\u001b[43mfilename\u001b[49m\u001b[38;5;241;43m=\u001b[39;49m\u001b[43mfilename\u001b[49m\u001b[43m,\u001b[49m\u001b[43m \u001b[49m\u001b[43mpath\u001b[49m\u001b[38;5;241;43m=\u001b[39;49m\u001b[43mpath\u001b[49m\u001b[43m)\u001b[49m\n\u001b[0;32m  12513\u001b[0m     \u001b[38;5;28mself\u001b[39m\u001b[38;5;241m.\u001b[39mfilename \u001b[38;5;241m=\u001b[39m cfilename\n\u001b[0;32m  12514\u001b[0m     \u001b[38;5;28mself\u001b[39m\u001b[38;5;241m.\u001b[39mpath \u001b[38;5;241m=\u001b[39m cpath\n",
      "File \u001b[1;32mc:\\Users\\User\\Desktop\\PokemonBattle\\venv\\Lib\\site-packages\\FreeSimpleGUI\\__init__.py:12476\u001b[0m, in \u001b[0;36mUserSettings._compute_filename\u001b[1;34m(self, filename, path)\u001b[0m\n\u001b[0;32m  12474\u001b[0m \u001b[38;5;28;01melse\u001b[39;00m:\n\u001b[0;32m  12475\u001b[0m     \u001b[38;5;28;01mif\u001b[39;00m \u001b[38;5;129;01mnot\u001b[39;00m \u001b[38;5;28mself\u001b[39m\u001b[38;5;241m.\u001b[39muse_config_file:\n\u001b[1;32m> 12476\u001b[0m         filename \u001b[38;5;241m=\u001b[39m os\u001b[38;5;241m.\u001b[39mpath\u001b[38;5;241m.\u001b[39msplitext(os\u001b[38;5;241m.\u001b[39mpath\u001b[38;5;241m.\u001b[39mbasename(\u001b[43msys\u001b[49m\u001b[38;5;241;43m.\u001b[39;49m\u001b[43mmodules\u001b[49m\u001b[43m[\u001b[49m\u001b[38;5;124;43m'\u001b[39;49m\u001b[38;5;124;43m__main__\u001b[39;49m\u001b[38;5;124;43m'\u001b[39;49m\u001b[43m]\u001b[49m\u001b[38;5;241;43m.\u001b[39;49m\u001b[38;5;18;43m__file__\u001b[39;49m))[\u001b[38;5;241m0\u001b[39m] \u001b[38;5;241m+\u001b[39m \u001b[38;5;124m'\u001b[39m\u001b[38;5;124m.json\u001b[39m\u001b[38;5;124m'\u001b[39m\n\u001b[0;32m  12477\u001b[0m     \u001b[38;5;28;01melse\u001b[39;00m:\n\u001b[0;32m  12478\u001b[0m         filename \u001b[38;5;241m=\u001b[39m os\u001b[38;5;241m.\u001b[39mpath\u001b[38;5;241m.\u001b[39msplitext(os\u001b[38;5;241m.\u001b[39mpath\u001b[38;5;241m.\u001b[39mbasename(sys\u001b[38;5;241m.\u001b[39mmodules[\u001b[38;5;124m'\u001b[39m\u001b[38;5;124m__main__\u001b[39m\u001b[38;5;124m'\u001b[39m]\u001b[38;5;241m.\u001b[39m\u001b[38;5;18m__file__\u001b[39m))[\u001b[38;5;241m0\u001b[39m] \u001b[38;5;241m+\u001b[39m \u001b[38;5;124m'\u001b[39m\u001b[38;5;124m.ini\u001b[39m\u001b[38;5;124m'\u001b[39m\n",
      "\u001b[1;31mAttributeError\u001b[0m: module '__main__' has no attribute '__file__'"
     ]
    }
   ],
   "source": [
    "testBattle.runBattle()\n",
    "# TODO: sync pokemon fainted status with corresponding slot being empty\n",
    "# TODO: only show trainers when swapping and sending out pokemon if they have pokemon available"
   ]
  },
  {
   "cell_type": "code",
   "execution_count": null,
   "metadata": {},
   "outputs": [],
   "source": [
    "# Have EventScheduler own the event durations and start turns, but pass in those fields into the eventContext object to be used when needed in the event triggers\n",
    "# Use EventActions to create a buffer between the event itself and the eventQueue\n",
    "\n",
    "# Bake durations, start turn, and procs into the event itself\n",
    "# Then we keep all events in a list and give each event a unique ID\n",
    "# This way when we want to decrease the duration of an event we can just remove 1 from that event easily\n",
    "# If we want to delete an event from the schedule we can just search for that ID\n",
    "# This avoids having to handle complex logic to ensure all trigger metadata is matched up\n",
    "\n",
    "from eventQueue.eventQueue import *\n",
    "from collections import defaultdict\n",
    "from collections.abc import Iterable\n",
    "\n",
    "class EventSystem:\n",
    "    def __init__(self):\n",
    "        self.scheduledEvents=defaultdict(list)\n",
    "        self.eventQueue=EventQueue()\n",
    "\n",
    "    def schedule(self, event, battleContext, duration=1, startTurn=None, triggers=None):\n",
    "        if startTurn is None:\n",
    "            startTurn=battleContext.turn\n",
    "        if triggers is None:\n",
    "            triggers=event.triggers\n",
    "        \n",
    "        for trigger in triggers:\n",
    "            self.scheduledEvents[trigger].append([event, duration, startTurn])\n",
    "\n",
    "    def unschedule(self, shouldRemoveFn, triggers):\n",
    "        if not isinstance(triggers, Iterable):\n",
    "            triggers=[triggers]\n",
    "        for trigger in triggers:\n",
    "            self.scheduledEvents[trigger]=[e for e in self.scheduledEvents[trigger] if shouldRemoveFn(e)]\n",
    "\n",
    "    def populateQueue(self, battleContext, trigger):\n",
    "        for event, duration, startTurn in self.scheduledEvents[trigger]:\n",
    "            if startTurn==battleContext.turn:\n",
    "                self.eventQueue.add(event, startTurn, trigger)\n",
    "\n",
    "    def activateTrigger(self, battleContext, eventContext, trigger):\n",
    "        self.eventQueue.trigger(battleContext, eventContext, trigger)\n",
    "        if trigger==Trigger.END_TURN:\n",
    "            for trig, events in self.scheduledEvents:\n",
    "                newEvents=[]\n",
    "                for event, duration, startTurn in events:\n",
    "                    if startTurn==battleContext.turn:\n",
    "                        newEvents.append([event, duration-1, startTurn+1])\n",
    "                self.scheduledEvents[trig]=newEvents\n"
   ]
  },
  {
   "cell_type": "code",
   "execution_count": null,
   "metadata": {},
   "outputs": [],
   "source": []
  }
 ],
 "metadata": {
  "kernelspec": {
   "display_name": "venv",
   "language": "python",
   "name": "python3"
  },
  "language_info": {
   "codemirror_mode": {
    "name": "ipython",
    "version": 3
   },
   "file_extension": ".py",
   "mimetype": "text/x-python",
   "name": "python",
   "nbconvert_exporter": "python",
   "pygments_lexer": "ipython3",
   "version": "3.12.4"
  }
 },
 "nbformat": 4,
 "nbformat_minor": 2
}
