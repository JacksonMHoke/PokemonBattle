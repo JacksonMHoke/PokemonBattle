{
 "cells": [
  {
   "cell_type": "code",
   "execution_count": 4,
   "metadata": {},
   "outputs": [],
   "source": [
    "from battle import *\n",
    "from trainer import *\n",
    "from pokemon import *\n",
    "from moves import *\n",
    "from globals import *\n",
    "from team import *"
   ]
  },
  {
   "cell_type": "code",
   "execution_count": 5,
   "metadata": {},
   "outputs": [],
   "source": [
    "moves=[Tackle(), Earthquake()]\n",
    "pikachuStats={\n",
    "    Stat.HP : 200,\n",
    "    Stat.ATT : 100,\n",
    "    Stat.DEF : 100,\n",
    "    Stat.SPA : 100,\n",
    "    Stat.SPD : 100,\n",
    "    Stat.SPE : 100\n",
    "}\n",
    "\n",
    "ratStats={\n",
    "    Stat.HP : 200,\n",
    "    Stat.ATT : 100,\n",
    "    Stat.DEF : 100,\n",
    "    Stat.SPA : 100,\n",
    "    Stat.SPD : 100,\n",
    "    Stat.SPE : 101\n",
    "}\n",
    "pikachu=Pikachu('pika', 15, pikachuStats, moves)\n",
    "rattata=Rattata('rat', 20, ratStats, moves)\n",
    "t1=Trainer('Trainer 1', [pikachu], None)\n",
    "t2=Trainer('Trainer 2', [rattata], None)\n",
    "teams=[Team('Team Pikachu', [t1], 1), Team('Team Rattata', [t2], 1)]\n",
    "testBattle=Battle(teams)"
   ]
  },
  {
   "cell_type": "code",
   "execution_count": 6,
   "metadata": {},
   "outputs": [
    {
     "name": "stdout",
     "output_type": "stream",
     "text": [
      "List of possible trainers: \n",
      "\t 0 Trainer 1\n",
      "List of possible pokemon: \n",
      "\t 0 pika\n",
      "pika was selected!\n",
      "\n",
      "\n",
      "List of possible trainers: \n",
      "\t 0 Trainer 2\n",
      "List of possible pokemon: \n",
      "\t 0 rat\n",
      "rat was selected!\n",
      "\n",
      "\n",
      "Team Pikachu\n",
      "----\n",
      "pika\n",
      "200\n",
      "----\n",
      "\n",
      "\n",
      "Team Rattata\n",
      "---\n",
      "rat\n",
      "200\n",
      "---\n",
      "\n",
      "\n",
      "Trainer 1 is picking a move for pika\n",
      "List of moves: 2\n",
      "\t 0 Tackle\n",
      "\t 1 Earthquake\n",
      "Earthquake was selected.\n",
      "\n",
      "\n",
      "Team Team Pikachu's Pokemon pika is choosing a target!\n",
      "0 Pokemon from Team Team Pikachu:\n",
      "0 pika\n",
      "1 Pokemon from Team Team Rattata:\n",
      "0 rat\n",
      "Team Team Rattata was selected as a target!\n",
      "rat was selected as a target!\n",
      "\n",
      "\n",
      "Trainer 2 is picking a move for rat\n",
      "List of moves: 2\n",
      "\t 0 Tackle\n",
      "\t 1 Earthquake\n",
      "Earthquake was selected.\n",
      "\n",
      "\n",
      "Team Team Rattata's Pokemon rat is choosing a target!\n",
      "0 Pokemon from Team Team Pikachu:\n",
      "0 pika\n",
      "1 Pokemon from Team Team Rattata:\n",
      "0 rat\n",
      "Team Team Pikachu was selected as a target!\n",
      "pika was selected as a target!\n",
      "\n",
      "\n",
      "Earthquake was super effective!\n",
      "pika took 200.0 damage!\n",
      "pika has fainted!\n"
     ]
    },
    {
     "data": {
      "text/plain": [
       "1"
      ]
     },
     "execution_count": 6,
     "metadata": {},
     "output_type": "execute_result"
    }
   ],
   "source": [
    "testBattle.runBattle()\n",
    "# TODO: fix pokemon still attacking from the grave\n",
    "# TODO: sync pokemon fainted status with corresponding slot being empty\n",
    "# TODO: make pokemon status an enum(benched, fainted, active)\n",
    "# TODO: only show trainers when swapping and sending out pokemon if they have pokemon available"
   ]
  },
  {
   "cell_type": "code",
   "execution_count": null,
   "metadata": {},
   "outputs": [],
   "source": []
  }
 ],
 "metadata": {
  "kernelspec": {
   "display_name": "venv",
   "language": "python",
   "name": "python3"
  },
  "language_info": {
   "codemirror_mode": {
    "name": "ipython",
    "version": 3
   },
   "file_extension": ".py",
   "mimetype": "text/x-python",
   "name": "python",
   "nbconvert_exporter": "python",
   "pygments_lexer": "ipython3",
   "version": "3.12.4"
  }
 },
 "nbformat": 4,
 "nbformat_minor": 2
}
