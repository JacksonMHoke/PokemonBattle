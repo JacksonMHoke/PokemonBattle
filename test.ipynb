{
 "cells": [
  {
   "cell_type": "code",
   "execution_count": 1,
   "metadata": {},
   "outputs": [],
   "source": [
    "from battle import *\n",
    "from trainer import *\n",
    "from pokemon import *\n",
    "from moves import *\n",
    "from globals import *\n",
    "from team import *\n",
    "from event import *"
   ]
  },
  {
   "cell_type": "code",
   "execution_count": 3,
   "metadata": {},
   "outputs": [
    {
     "name": "stdout",
     "output_type": "stream",
     "text": [
      "100.0\n",
      "1100\n"
     ]
    }
   ],
   "source": [
    "stats=Stats(100, 100, 100, 100, 100, 100)\n",
    "print(stats.HP)\n",
    "stats.HP=1\n",
    "stats.hpMult=10\n",
    "stats.HP+=100\n",
    "print(stats.HP)"
   ]
  },
  {
   "cell_type": "code",
   "execution_count": 2,
   "metadata": {},
   "outputs": [],
   "source": [
    "moves=[Tackle(), Earthquake(), Thunder()]\n",
    "pikachuStats={\n",
    "    Stat.HP : 200,\n",
    "    Stat.ATT : 100,\n",
    "    Stat.DEF : 100,\n",
    "    Stat.SPA : 100,\n",
    "    Stat.SPD : 100,\n",
    "    Stat.SPE : 100\n",
    "}\n",
    "pikachus=[Pikachu('pika1', 15, pikachuStats, moves), Pikachu('pika2', 15, pikachuStats, moves), Pikachu('pika3', 15, pikachuStats, moves), Pikachu('pika4', 15, pikachuStats, moves)]\n",
    "\n",
    "ratStats={\n",
    "    Stat.HP : 200,\n",
    "    Stat.ATT : 100,\n",
    "    Stat.DEF : 100,\n",
    "    Stat.SPA : 100,\n",
    "    Stat.SPD : 100,\n",
    "    Stat.SPE : 101\n",
    "}\n",
    "rats=[Rattata('rat1', 20, ratStats, moves, Sword()), Rattata('rat2', 20, ratStats, moves), Rattata('rat3', 20, ratStats, moves), Rattata('rat4', 20, ratStats, moves)]\n",
    "t1=Trainer('Trainer 1', pikachus, None)\n",
    "t2=Trainer('Trainer 2', rats, None)\n",
    "teams=[Team('Team Pikachu', [t1], 1), Team('Team Rattata', [t2], 1)]\n",
    "testBattle=Battle(teams)"
   ]
  },
  {
   "cell_type": "code",
   "execution_count": 3,
   "metadata": {},
   "outputs": [
    {
     "name": "stdout",
     "output_type": "stream",
     "text": [
      "[<FreeSimpleGUI.elements.column.Column object at 0x000002BDD15D3080>]\n",
      "[<FreeSimpleGUI.elements.column.Column object at 0x000002BDD15D3920>]\n",
      "[<FreeSimpleGUI.elements.column.Column object at 0x000002BDD05CAA20>, <FreeSimpleGUI.elements.separator.HorizontalSeparator object at 0x000002BDD15D3BF0>, <FreeSimpleGUI.elements.column.Column object at 0x000002BDD15D3C80>]\n"
     ]
    },
    {
     "ename": "AttributeError",
     "evalue": "module '__main__' has no attribute '__file__'",
     "output_type": "error",
     "traceback": [
      "\u001b[1;31m---------------------------------------------------------------------------\u001b[0m",
      "\u001b[1;31mTypeError\u001b[0m                                 Traceback (most recent call last)",
      "File \u001b[1;32mc:\\Users\\User\\Desktop\\PokemonBattle\\venv\\Lib\\site-packages\\FreeSimpleGUI\\window.py:615\u001b[0m, in \u001b[0;36mWindow.add_rows\u001b[1;34m(self, rows)\u001b[0m\n\u001b[0;32m    614\u001b[0m \u001b[38;5;28;01mtry\u001b[39;00m:\n\u001b[1;32m--> 615\u001b[0m     \u001b[38;5;28;43miter\u001b[39;49m\u001b[43m(\u001b[49m\u001b[43mrow\u001b[49m\u001b[43m)\u001b[49m\n\u001b[0;32m    616\u001b[0m \u001b[38;5;28;01mexcept\u001b[39;00m \u001b[38;5;167;01mTypeError\u001b[39;00m:\n",
      "\u001b[1;31mTypeError\u001b[0m: 'Column' object is not iterable",
      "\nDuring handling of the above exception, another exception occurred:\n",
      "\u001b[1;31mAttributeError\u001b[0m                            Traceback (most recent call last)",
      "Cell \u001b[1;32mIn[3], line 1\u001b[0m\n\u001b[1;32m----> 1\u001b[0m \u001b[43mtestBattle\u001b[49m\u001b[38;5;241;43m.\u001b[39;49m\u001b[43mrunBattle\u001b[49m\u001b[43m(\u001b[49m\u001b[43m)\u001b[49m\n\u001b[0;32m      2\u001b[0m \u001b[38;5;66;03m# TODO: sync pokemon fainted status with corresponding slot being empty\u001b[39;00m\n\u001b[0;32m      3\u001b[0m \u001b[38;5;66;03m# TODO: only show trainers when swapping and sending out pokemon if they have pokemon available\u001b[39;00m\n",
      "File \u001b[1;32mc:\\Users\\User\\Desktop\\PokemonBattle\\battle.py:31\u001b[0m, in \u001b[0;36mBattle.runBattle\u001b[1;34m(self)\u001b[0m\n\u001b[0;32m     28\u001b[0m queue\u001b[38;5;241m=\u001b[39mBattleQueue()\n\u001b[0;32m     29\u001b[0m \u001b[38;5;28mself\u001b[39m\u001b[38;5;241m.\u001b[39mcontext\u001b[38;5;241m.\u001b[39mturn\u001b[38;5;241m=\u001b[39m\u001b[38;5;241m1\u001b[39m\n\u001b[1;32m---> 31\u001b[0m \u001b[38;5;28mself\u001b[39m\u001b[38;5;241m.\u001b[39mcontext\u001b[38;5;241m.\u001b[39mwindow \u001b[38;5;241m=\u001b[39m \u001b[43msg\u001b[49m\u001b[38;5;241;43m.\u001b[39;49m\u001b[43mWindow\u001b[49m\u001b[43m(\u001b[49m\u001b[38;5;124;43m'\u001b[39;49m\u001b[38;5;124;43mBattle Window\u001b[39;49m\u001b[38;5;124;43m'\u001b[39;49m\u001b[43m,\u001b[49m\u001b[43m \u001b[49m\u001b[43mgetLayout\u001b[49m\u001b[43m(\u001b[49m\u001b[38;5;28;43mself\u001b[39;49m\u001b[38;5;241;43m.\u001b[39;49m\u001b[43mcontext\u001b[49m\u001b[43m)\u001b[49m\u001b[43m,\u001b[49m\u001b[43m \u001b[49m\u001b[43msize\u001b[49m\u001b[38;5;241;43m=\u001b[39;49m\u001b[43m(\u001b[49m\u001b[38;5;241;43m800\u001b[39;49m\u001b[43m,\u001b[49m\u001b[43m \u001b[49m\u001b[38;5;241;43m600\u001b[39;49m\u001b[43m)\u001b[49m\u001b[43m,\u001b[49m\u001b[43m \u001b[49m\u001b[43mfinalize\u001b[49m\u001b[38;5;241;43m=\u001b[39;49m\u001b[38;5;28;43;01mTrue\u001b[39;49;00m\u001b[43m,\u001b[49m\u001b[43m \u001b[49m\u001b[43melement_justification\u001b[49m\u001b[38;5;241;43m=\u001b[39;49m\u001b[38;5;124;43m'\u001b[39;49m\u001b[38;5;124;43mcenter\u001b[39;49m\u001b[38;5;124;43m'\u001b[39;49m\u001b[43m)\u001b[49m\n\u001b[0;32m     32\u001b[0m e, v \u001b[38;5;241m=\u001b[39m \u001b[38;5;28mself\u001b[39m\u001b[38;5;241m.\u001b[39mcontext\u001b[38;5;241m.\u001b[39mwindow\u001b[38;5;241m.\u001b[39mread()\n\u001b[0;32m     33\u001b[0m \u001b[38;5;28;01mif\u001b[39;00m e \u001b[38;5;241m==\u001b[39m sg\u001b[38;5;241m.\u001b[39mWINDOW_CLOSED \u001b[38;5;129;01mor\u001b[39;00m e \u001b[38;5;241m==\u001b[39m \u001b[38;5;124m\"\u001b[39m\u001b[38;5;124mExit\u001b[39m\u001b[38;5;124m\"\u001b[39m:\n",
      "File \u001b[1;32mc:\\Users\\User\\Desktop\\PokemonBattle\\venv\\Lib\\site-packages\\FreeSimpleGUI\\window.py:468\u001b[0m, in \u001b[0;36mWindow.__init__\u001b[1;34m(self, title, layout, default_element_size, default_button_element_size, auto_size_text, auto_size_buttons, location, relative_location, size, element_padding, margins, button_color, font, progress_bar_color, background_color, border_depth, auto_close, auto_close_duration, icon, force_toplevel, alpha_channel, return_keyboard_events, use_default_focus, text_justification, no_titlebar, grab_anywhere, grab_anywhere_using_control, keep_on_top, resizable, disable_close, disable_minimize, right_click_menu, transparent_color, debugger_enabled, right_click_menu_background_color, right_click_menu_text_color, right_click_menu_disabled_text_color, right_click_menu_selected_colors, right_click_menu_font, right_click_menu_tearoff, finalize, element_justification, ttk_theme, use_ttk_buttons, modal, enable_close_attempted_event, enable_window_config_events, titlebar_background_color, titlebar_text_color, titlebar_font, titlebar_icon, use_custom_titlebar, scaling, sbar_trough_color, sbar_background_color, sbar_arrow_color, sbar_width, sbar_arrow_width, sbar_frame_color, sbar_relief, watermark, metadata)\u001b[0m\n\u001b[0;32m    465\u001b[0m     warnings\u001b[38;5;241m.\u001b[39mwarn(\u001b[38;5;124m'\u001b[39m\u001b[38;5;124mYour layout is not a list or tuple... this is not good!\u001b[39m\u001b[38;5;124m'\u001b[39m)\n\u001b[0;32m    467\u001b[0m \u001b[38;5;28;01mif\u001b[39;00m layout \u001b[38;5;129;01mis\u001b[39;00m \u001b[38;5;129;01mnot\u001b[39;00m \u001b[38;5;28;01mNone\u001b[39;00m:\n\u001b[1;32m--> 468\u001b[0m     \u001b[38;5;28;43mself\u001b[39;49m\u001b[38;5;241;43m.\u001b[39;49m\u001b[43mLayout\u001b[49m\u001b[43m(\u001b[49m\u001b[43mlayout\u001b[49m\u001b[43m)\u001b[49m\n\u001b[0;32m    469\u001b[0m     \u001b[38;5;28;01mif\u001b[39;00m finalize:\n\u001b[0;32m    470\u001b[0m         \u001b[38;5;28mself\u001b[39m\u001b[38;5;241m.\u001b[39mFinalize()\n",
      "File \u001b[1;32mc:\\Users\\User\\Desktop\\PokemonBattle\\venv\\Lib\\site-packages\\FreeSimpleGUI\\window.py:668\u001b[0m, in \u001b[0;36mWindow.layout\u001b[1;34m(self, rows)\u001b[0m\n\u001b[0;32m    666\u001b[0m \u001b[38;5;28;01melse\u001b[39;00m:\n\u001b[0;32m    667\u001b[0m     new_rows \u001b[38;5;241m=\u001b[39m rows\n\u001b[1;32m--> 668\u001b[0m \u001b[38;5;28;43mself\u001b[39;49m\u001b[38;5;241;43m.\u001b[39;49m\u001b[43madd_rows\u001b[49m\u001b[43m(\u001b[49m\u001b[43mnew_rows\u001b[49m\u001b[43m)\u001b[49m\n\u001b[0;32m    669\u001b[0m \u001b[38;5;28mself\u001b[39m\u001b[38;5;241m.\u001b[39m_BuildKeyDict()\n\u001b[0;32m    671\u001b[0m \u001b[38;5;28;01mif\u001b[39;00m \u001b[38;5;28mself\u001b[39m\u001b[38;5;241m.\u001b[39m_has_custom_titlebar_element():\n",
      "File \u001b[1;32mc:\\Users\\User\\Desktop\\PokemonBattle\\venv\\Lib\\site-packages\\FreeSimpleGUI\\window.py:617\u001b[0m, in \u001b[0;36mWindow.add_rows\u001b[1;34m(self, rows)\u001b[0m\n\u001b[0;32m    615\u001b[0m     \u001b[38;5;28miter\u001b[39m(row)\n\u001b[0;32m    616\u001b[0m \u001b[38;5;28;01mexcept\u001b[39;00m \u001b[38;5;167;01mTypeError\u001b[39;00m:\n\u001b[1;32m--> 617\u001b[0m     \u001b[43m_error_popup_with_traceback\u001b[49m\u001b[43m(\u001b[49m\n\u001b[0;32m    618\u001b[0m \u001b[43m        \u001b[49m\u001b[38;5;124;43m'\u001b[39;49m\u001b[38;5;124;43mError Creating Window Layout\u001b[39;49m\u001b[38;5;124;43m'\u001b[39;49m\u001b[43m,\u001b[49m\n\u001b[0;32m    619\u001b[0m \u001b[43m        \u001b[49m\u001b[38;5;124;43m'\u001b[39;49m\u001b[38;5;124;43mError creating Window layout\u001b[39;49m\u001b[38;5;124;43m'\u001b[39;49m\u001b[43m,\u001b[49m\n\u001b[0;32m    620\u001b[0m \u001b[43m        \u001b[49m\u001b[38;5;124;43m'\u001b[39;49m\u001b[38;5;124;43mYour row is not an iterable (e.g. a list)\u001b[39;49m\u001b[38;5;124;43m'\u001b[39;49m\u001b[43m,\u001b[49m\n\u001b[0;32m    621\u001b[0m \u001b[43m        \u001b[49m\u001b[38;5;124;43mf\u001b[39;49m\u001b[38;5;124;43m'\u001b[39;49m\u001b[38;5;124;43mInstead of a list, the type found was \u001b[39;49m\u001b[38;5;132;43;01m{\u001b[39;49;00m\u001b[38;5;28;43mtype\u001b[39;49m\u001b[43m(\u001b[49m\u001b[43mrow\u001b[49m\u001b[43m)\u001b[49m\u001b[38;5;132;43;01m}\u001b[39;49;00m\u001b[38;5;124;43m'\u001b[39;49m\u001b[43m,\u001b[49m\n\u001b[0;32m    622\u001b[0m \u001b[43m        \u001b[49m\u001b[38;5;124;43m'\u001b[39;49m\u001b[38;5;124;43mThe offensive row = \u001b[39;49m\u001b[38;5;124;43m'\u001b[39;49m\u001b[43m,\u001b[49m\n\u001b[0;32m    623\u001b[0m \u001b[43m        \u001b[49m\u001b[43mrow\u001b[49m\u001b[43m,\u001b[49m\n\u001b[0;32m    624\u001b[0m \u001b[43m        \u001b[49m\u001b[38;5;124;43m'\u001b[39;49m\u001b[38;5;124;43mThis item will be stripped from your layout\u001b[39;49m\u001b[38;5;124;43m'\u001b[39;49m\u001b[43m,\u001b[49m\n\u001b[0;32m    625\u001b[0m \u001b[43m    \u001b[49m\u001b[43m)\u001b[49m\n\u001b[0;32m    626\u001b[0m     \u001b[38;5;28;01mcontinue\u001b[39;00m\n\u001b[0;32m    627\u001b[0m \u001b[38;5;28mself\u001b[39m\u001b[38;5;241m.\u001b[39madd_row(\u001b[38;5;241m*\u001b[39mrow)\n",
      "File \u001b[1;32mc:\\Users\\User\\Desktop\\PokemonBattle\\venv\\Lib\\site-packages\\FreeSimpleGUI\\_utils.py:57\u001b[0m, in \u001b[0;36m_error_popup_with_traceback\u001b[1;34m(title, emoji, *args)\u001b[0m\n\u001b[0;32m     55\u001b[0m filename \u001b[38;5;241m=\u001b[39m error_parts[\u001b[38;5;241m0\u001b[39m][error_parts[\u001b[38;5;241m0\u001b[39m]\u001b[38;5;241m.\u001b[39mindex(\u001b[38;5;124m'\u001b[39m\u001b[38;5;124mFile \u001b[39m\u001b[38;5;124m'\u001b[39m) \u001b[38;5;241m+\u001b[39m \u001b[38;5;241m5\u001b[39m :]\n\u001b[0;32m     56\u001b[0m line_num \u001b[38;5;241m=\u001b[39m error_parts[\u001b[38;5;241m1\u001b[39m][error_parts[\u001b[38;5;241m1\u001b[39m]\u001b[38;5;241m.\u001b[39mindex(\u001b[38;5;124m'\u001b[39m\u001b[38;5;124mline \u001b[39m\u001b[38;5;124m'\u001b[39m) \u001b[38;5;241m+\u001b[39m \u001b[38;5;241m5\u001b[39m :]\n\u001b[1;32m---> 57\u001b[0m \u001b[43m_error_popup_with_code\u001b[49m\u001b[43m(\u001b[49m\u001b[43mtitle\u001b[49m\u001b[43m,\u001b[49m\u001b[43m \u001b[49m\u001b[43mfilename\u001b[49m\u001b[43m,\u001b[49m\u001b[43m \u001b[49m\u001b[43mline_num\u001b[49m\u001b[43m,\u001b[49m\u001b[43m \u001b[49m\u001b[43merror_message\u001b[49m\u001b[43m,\u001b[49m\u001b[43m \u001b[49m\u001b[38;5;241;43m*\u001b[39;49m\u001b[43margs\u001b[49m\u001b[43m,\u001b[49m\u001b[43m \u001b[49m\u001b[43memoji\u001b[49m\u001b[38;5;241;43m=\u001b[39;49m\u001b[43memoji\u001b[49m\u001b[43m)\u001b[49m\n",
      "File \u001b[1;32mc:\\Users\\User\\Desktop\\PokemonBattle\\venv\\Lib\\site-packages\\FreeSimpleGUI\\_utils.py:75\u001b[0m, in \u001b[0;36m_error_popup_with_code\u001b[1;34m(title, filename, line_num, emoji, *args)\u001b[0m\n\u001b[0;32m     60\u001b[0m \u001b[38;5;28;01mdef\u001b[39;00m\u001b[38;5;250m \u001b[39m\u001b[38;5;21m_error_popup_with_code\u001b[39m(title, filename, line_num, \u001b[38;5;241m*\u001b[39margs, emoji\u001b[38;5;241m=\u001b[39m\u001b[38;5;28;01mNone\u001b[39;00m):\n\u001b[0;32m     61\u001b[0m \u001b[38;5;250m    \u001b[39m\u001b[38;5;124;03m\"\"\"\u001b[39;00m\n\u001b[0;32m     62\u001b[0m \u001b[38;5;124;03m    Makes the error popup window\u001b[39;00m\n\u001b[0;32m     63\u001b[0m \n\u001b[1;32m   (...)\u001b[0m\n\u001b[0;32m     73\u001b[0m \u001b[38;5;124;03m    :type emoji:      bytes\u001b[39;00m\n\u001b[0;32m     74\u001b[0m \u001b[38;5;124;03m    \"\"\"\u001b[39;00m\n\u001b[1;32m---> 75\u001b[0m     editor_filename \u001b[38;5;241m=\u001b[39m \u001b[43mexecute_get_editor\u001b[49m\u001b[43m(\u001b[49m\u001b[43m)\u001b[49m\n\u001b[0;32m     76\u001b[0m     emoji_data \u001b[38;5;241m=\u001b[39m emoji \u001b[38;5;28;01mif\u001b[39;00m emoji \u001b[38;5;129;01mis\u001b[39;00m \u001b[38;5;129;01mnot\u001b[39;00m \u001b[38;5;28;01mNone\u001b[39;00m \u001b[38;5;28;01melse\u001b[39;00m _random_error_emoji()\n\u001b[0;32m     77\u001b[0m     layout \u001b[38;5;241m=\u001b[39m [[Text(\u001b[38;5;124m'\u001b[39m\u001b[38;5;124mERROR\u001b[39m\u001b[38;5;124m'\u001b[39m), Text(title)], [Image(data\u001b[38;5;241m=\u001b[39memoji_data)]]\n",
      "File \u001b[1;32mc:\\Users\\User\\Desktop\\PokemonBattle\\venv\\Lib\\site-packages\\FreeSimpleGUI\\__init__.py:13393\u001b[0m, in \u001b[0;36mexecute_get_editor\u001b[1;34m()\u001b[0m\n\u001b[0;32m  13390\u001b[0m \u001b[38;5;28;01mexcept\u001b[39;00m:\n\u001b[0;32m  13391\u001b[0m     global_editor \u001b[38;5;241m=\u001b[39m \u001b[38;5;124m'\u001b[39m\u001b[38;5;124m'\u001b[39m\n\u001b[1;32m> 13393\u001b[0m \u001b[38;5;28;01mreturn\u001b[39;00m \u001b[43muser_settings_get_entry\u001b[49m\u001b[43m(\u001b[49m\u001b[38;5;124;43m'\u001b[39;49m\u001b[38;5;124;43m-editor program-\u001b[39;49m\u001b[38;5;124;43m'\u001b[39;49m\u001b[43m,\u001b[49m\u001b[43m \u001b[49m\u001b[43mglobal_editor\u001b[49m\u001b[43m)\u001b[49m\n",
      "File \u001b[1;32mc:\\Users\\User\\Desktop\\PokemonBattle\\venv\\Lib\\site-packages\\FreeSimpleGUI\\__init__.py:12929\u001b[0m, in \u001b[0;36muser_settings_get_entry\u001b[1;34m(key, default)\u001b[0m\n\u001b[0;32m  12914\u001b[0m \u001b[38;5;250m\u001b[39m\u001b[38;5;124;03m\"\"\"\u001b[39;00m\n\u001b[0;32m  12915\u001b[0m \u001b[38;5;124;03mReturns the value of a specified setting.  If the setting is not found in the settings dictionary, then\u001b[39;00m\n\u001b[0;32m  12916\u001b[0m \u001b[38;5;124;03mthe user specified default value will be returned.  It no default is specified and nothing is found, then\u001b[39;00m\n\u001b[1;32m   (...)\u001b[0m\n\u001b[0;32m  12926\u001b[0m \u001b[38;5;124;03m:rtype:         (Any)\u001b[39;00m\n\u001b[0;32m  12927\u001b[0m \u001b[38;5;124;03m\"\"\"\u001b[39;00m\n\u001b[0;32m  12928\u001b[0m settings \u001b[38;5;241m=\u001b[39m UserSettings\u001b[38;5;241m.\u001b[39m_default_for_function_interface\n\u001b[1;32m> 12929\u001b[0m \u001b[38;5;28;01mreturn\u001b[39;00m \u001b[43msettings\u001b[49m\u001b[38;5;241;43m.\u001b[39;49m\u001b[43mget\u001b[49m\u001b[43m(\u001b[49m\u001b[43mkey\u001b[49m\u001b[43m,\u001b[49m\u001b[43m \u001b[49m\u001b[43mdefault\u001b[49m\u001b[43m)\u001b[49m\n",
      "File \u001b[1;32mc:\\Users\\User\\Desktop\\PokemonBattle\\venv\\Lib\\site-packages\\FreeSimpleGUI\\__init__.py:12767\u001b[0m, in \u001b[0;36mUserSettings.get\u001b[1;34m(self, key, default)\u001b[0m\n\u001b[0;32m  12764\u001b[0m     default \u001b[38;5;241m=\u001b[39m \u001b[38;5;28mself\u001b[39m\u001b[38;5;241m.\u001b[39mdefault_value\n\u001b[0;32m  12766\u001b[0m \u001b[38;5;28;01mif\u001b[39;00m \u001b[38;5;28mself\u001b[39m\u001b[38;5;241m.\u001b[39mfull_filename \u001b[38;5;129;01mis\u001b[39;00m \u001b[38;5;28;01mNone\u001b[39;00m:\n\u001b[1;32m> 12767\u001b[0m     \u001b[38;5;28;43mself\u001b[39;49m\u001b[38;5;241;43m.\u001b[39;49m\u001b[43mset_location\u001b[49m\u001b[43m(\u001b[49m\u001b[43m)\u001b[49m\n\u001b[0;32m  12768\u001b[0m     \u001b[38;5;28;01mif\u001b[39;00m \u001b[38;5;28mself\u001b[39m\u001b[38;5;241m.\u001b[39mautosave \u001b[38;5;129;01mor\u001b[39;00m \u001b[38;5;28mself\u001b[39m\u001b[38;5;241m.\u001b[39mdict \u001b[38;5;241m==\u001b[39m {}:\n\u001b[0;32m  12769\u001b[0m         \u001b[38;5;28mself\u001b[39m\u001b[38;5;241m.\u001b[39mread()\n",
      "File \u001b[1;32mc:\\Users\\User\\Desktop\\PokemonBattle\\venv\\Lib\\site-packages\\FreeSimpleGUI\\__init__.py:12511\u001b[0m, in \u001b[0;36mUserSettings.set_location\u001b[1;34m(self, filename, path)\u001b[0m\n\u001b[0;32m  12502\u001b[0m \u001b[38;5;28;01mdef\u001b[39;00m\u001b[38;5;250m \u001b[39m\u001b[38;5;21mset_location\u001b[39m(\u001b[38;5;28mself\u001b[39m, filename\u001b[38;5;241m=\u001b[39m\u001b[38;5;28;01mNone\u001b[39;00m, path\u001b[38;5;241m=\u001b[39m\u001b[38;5;28;01mNone\u001b[39;00m):\n\u001b[0;32m  12503\u001b[0m \u001b[38;5;250m    \u001b[39m\u001b[38;5;124;03m\"\"\"\u001b[39;00m\n\u001b[0;32m  12504\u001b[0m \u001b[38;5;124;03m    Sets the location of the settings file\u001b[39;00m\n\u001b[0;32m  12505\u001b[0m \n\u001b[1;32m   (...)\u001b[0m\n\u001b[0;32m  12509\u001b[0m \u001b[38;5;124;03m    :type path:      (str or None)\u001b[39;00m\n\u001b[0;32m  12510\u001b[0m \u001b[38;5;124;03m    \"\"\"\u001b[39;00m\n\u001b[1;32m> 12511\u001b[0m     cfull_filename, cpath, cfilename \u001b[38;5;241m=\u001b[39m \u001b[38;5;28;43mself\u001b[39;49m\u001b[38;5;241;43m.\u001b[39;49m\u001b[43m_compute_filename\u001b[49m\u001b[43m(\u001b[49m\u001b[43mfilename\u001b[49m\u001b[38;5;241;43m=\u001b[39;49m\u001b[43mfilename\u001b[49m\u001b[43m,\u001b[49m\u001b[43m \u001b[49m\u001b[43mpath\u001b[49m\u001b[38;5;241;43m=\u001b[39;49m\u001b[43mpath\u001b[49m\u001b[43m)\u001b[49m\n\u001b[0;32m  12513\u001b[0m     \u001b[38;5;28mself\u001b[39m\u001b[38;5;241m.\u001b[39mfilename \u001b[38;5;241m=\u001b[39m cfilename\n\u001b[0;32m  12514\u001b[0m     \u001b[38;5;28mself\u001b[39m\u001b[38;5;241m.\u001b[39mpath \u001b[38;5;241m=\u001b[39m cpath\n",
      "File \u001b[1;32mc:\\Users\\User\\Desktop\\PokemonBattle\\venv\\Lib\\site-packages\\FreeSimpleGUI\\__init__.py:12476\u001b[0m, in \u001b[0;36mUserSettings._compute_filename\u001b[1;34m(self, filename, path)\u001b[0m\n\u001b[0;32m  12474\u001b[0m \u001b[38;5;28;01melse\u001b[39;00m:\n\u001b[0;32m  12475\u001b[0m     \u001b[38;5;28;01mif\u001b[39;00m \u001b[38;5;129;01mnot\u001b[39;00m \u001b[38;5;28mself\u001b[39m\u001b[38;5;241m.\u001b[39muse_config_file:\n\u001b[1;32m> 12476\u001b[0m         filename \u001b[38;5;241m=\u001b[39m os\u001b[38;5;241m.\u001b[39mpath\u001b[38;5;241m.\u001b[39msplitext(os\u001b[38;5;241m.\u001b[39mpath\u001b[38;5;241m.\u001b[39mbasename(\u001b[43msys\u001b[49m\u001b[38;5;241;43m.\u001b[39;49m\u001b[43mmodules\u001b[49m\u001b[43m[\u001b[49m\u001b[38;5;124;43m'\u001b[39;49m\u001b[38;5;124;43m__main__\u001b[39;49m\u001b[38;5;124;43m'\u001b[39;49m\u001b[43m]\u001b[49m\u001b[38;5;241;43m.\u001b[39;49m\u001b[38;5;18;43m__file__\u001b[39;49m))[\u001b[38;5;241m0\u001b[39m] \u001b[38;5;241m+\u001b[39m \u001b[38;5;124m'\u001b[39m\u001b[38;5;124m.json\u001b[39m\u001b[38;5;124m'\u001b[39m\n\u001b[0;32m  12477\u001b[0m     \u001b[38;5;28;01melse\u001b[39;00m:\n\u001b[0;32m  12478\u001b[0m         filename \u001b[38;5;241m=\u001b[39m os\u001b[38;5;241m.\u001b[39mpath\u001b[38;5;241m.\u001b[39msplitext(os\u001b[38;5;241m.\u001b[39mpath\u001b[38;5;241m.\u001b[39mbasename(sys\u001b[38;5;241m.\u001b[39mmodules[\u001b[38;5;124m'\u001b[39m\u001b[38;5;124m__main__\u001b[39m\u001b[38;5;124m'\u001b[39m]\u001b[38;5;241m.\u001b[39m\u001b[38;5;18m__file__\u001b[39m))[\u001b[38;5;241m0\u001b[39m] \u001b[38;5;241m+\u001b[39m \u001b[38;5;124m'\u001b[39m\u001b[38;5;124m.ini\u001b[39m\u001b[38;5;124m'\u001b[39m\n",
      "\u001b[1;31mAttributeError\u001b[0m: module '__main__' has no attribute '__file__'"
     ]
    }
   ],
   "source": [
    "testBattle.runBattle()\n",
    "# TODO: sync pokemon fainted status with corresponding slot being empty\n",
    "# TODO: only show trainers when swapping and sending out pokemon if they have pokemon available"
   ]
  },
  {
   "cell_type": "code",
   "execution_count": null,
   "metadata": {},
   "outputs": [],
   "source": []
  },
  {
   "cell_type": "code",
   "execution_count": null,
   "metadata": {},
   "outputs": [],
   "source": []
  }
 ],
 "metadata": {
  "kernelspec": {
   "display_name": "venv",
   "language": "python",
   "name": "python3"
  },
  "language_info": {
   "codemirror_mode": {
    "name": "ipython",
    "version": 3
   },
   "file_extension": ".py",
   "mimetype": "text/x-python",
   "name": "python",
   "nbconvert_exporter": "python",
   "pygments_lexer": "ipython3",
   "version": "3.12.4"
  }
 },
 "nbformat": 4,
 "nbformat_minor": 2
}
